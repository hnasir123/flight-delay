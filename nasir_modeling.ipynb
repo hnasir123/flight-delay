{
 "cells": [
  {
   "cell_type": "markdown",
   "metadata": {},
   "source": [
    "# Machine Learning\n",
    "\n",
    "In this file, instructions how to approach the challenge can be found."
   ]
  },
  {
   "cell_type": "markdown",
   "metadata": {},
   "source": [
    "We are going to work on different types of Machine Learning problems:\n",
    "\n",
    "- **Regression Problem**: The goal is to predict delay of flights.\n",
    "- **(Stretch) Multiclass Classification**: If the plane was delayed, we will predict what type of delay it is (will be).\n",
    "- **(Stretch) Binary Classification**: The goal is to predict if the flight will be cancelled."
   ]
  },
  {
   "cell_type": "code",
   "execution_count": 1,
   "metadata": {},
   "outputs": [],
   "source": [
    "import numpy as np\n",
    "import pandas as pd\n",
    "import seaborn as sns\n",
    "import scipy.stats as stats\n",
    "import matplotlib.pyplot as plt\n",
    "from sklearn.preprocessing import MinMaxScaler\n",
    "from sklearn.model_selection import train_test_split\n"
   ]
  },
  {
   "cell_type": "markdown",
   "metadata": {},
   "source": [
    "## Main Task: Regression Problem"
   ]
  },
  {
   "cell_type": "markdown",
   "metadata": {},
   "source": [
    "The target variable is **ARR_DELAY**. We need to be careful which columns to use and which don't. For example, DEP_DELAY is going to be the perfect predictor, but we can't use it because in real-life scenario, we want to predict the delay before the flight takes of --> We can use average delay from earlier days but not the one from the actual flight we predict.  \n",
    "\n",
    "For example, variables **CARRIER_DELAY, WEATHER_DELAY, NAS_DELAY, SECURITY_DELAY, LATE_AIRCRAFT_DELAY** shouldn't be used directly as predictors as well. However, we can create various transformations from earlier values.\n",
    "\n",
    "We will be evaluating your models by predicting the ARR_DELAY for all flights **1 week in advance**."
   ]
  },
  {
   "cell_type": "code",
   "execution_count": 2,
   "metadata": {},
   "outputs": [],
   "source": [
    "df_flights = pd.read_csv('data/df_sample_1_subset.csv')"
   ]
  },
  {
   "cell_type": "code",
   "execution_count": 3,
   "metadata": {},
   "outputs": [
    {
     "data": {
      "text/html": [
       "<div>\n",
       "<style scoped>\n",
       "    .dataframe tbody tr th:only-of-type {\n",
       "        vertical-align: middle;\n",
       "    }\n",
       "\n",
       "    .dataframe tbody tr th {\n",
       "        vertical-align: top;\n",
       "    }\n",
       "\n",
       "    .dataframe thead th {\n",
       "        text-align: right;\n",
       "    }\n",
       "</style>\n",
       "<table border=\"1\" class=\"dataframe\">\n",
       "  <thead>\n",
       "    <tr style=\"text-align: right;\">\n",
       "      <th></th>\n",
       "      <th>fl_date</th>\n",
       "      <th>mkt_unique_carrier</th>\n",
       "      <th>branded_code_share</th>\n",
       "      <th>mkt_carrier_fl_num</th>\n",
       "      <th>op_unique_carrier</th>\n",
       "      <th>tail_num</th>\n",
       "      <th>op_carrier_fl_num</th>\n",
       "      <th>origin_airport_id</th>\n",
       "      <th>origin</th>\n",
       "      <th>origin_city_name</th>\n",
       "      <th>...</th>\n",
       "      <th>flights</th>\n",
       "      <th>distance</th>\n",
       "      <th>carrier_delay</th>\n",
       "      <th>weather_delay</th>\n",
       "      <th>nas_delay</th>\n",
       "      <th>security_delay</th>\n",
       "      <th>late_aircraft_delay</th>\n",
       "      <th>first_dep_time</th>\n",
       "      <th>total_add_gtime</th>\n",
       "      <th>longest_add_gtime</th>\n",
       "    </tr>\n",
       "  </thead>\n",
       "  <tbody>\n",
       "    <tr>\n",
       "      <th>0</th>\n",
       "      <td>2019-01-08</td>\n",
       "      <td>DL</td>\n",
       "      <td>DL_CODESHARE</td>\n",
       "      <td>4179</td>\n",
       "      <td>OO</td>\n",
       "      <td>N477CA</td>\n",
       "      <td>4179</td>\n",
       "      <td>10408</td>\n",
       "      <td>ATW</td>\n",
       "      <td>Appleton, WI</td>\n",
       "      <td>...</td>\n",
       "      <td>1</td>\n",
       "      <td>296</td>\n",
       "      <td>0.0</td>\n",
       "      <td>0.0</td>\n",
       "      <td>0.0</td>\n",
       "      <td>0.0</td>\n",
       "      <td>0.0</td>\n",
       "      <td>0.0</td>\n",
       "      <td>0.0</td>\n",
       "      <td>0.0</td>\n",
       "    </tr>\n",
       "    <tr>\n",
       "      <th>1</th>\n",
       "      <td>2018-05-04</td>\n",
       "      <td>UA</td>\n",
       "      <td>UA</td>\n",
       "      <td>374</td>\n",
       "      <td>UA</td>\n",
       "      <td>N61882</td>\n",
       "      <td>374</td>\n",
       "      <td>12264</td>\n",
       "      <td>IAD</td>\n",
       "      <td>Washington, DC</td>\n",
       "      <td>...</td>\n",
       "      <td>1</td>\n",
       "      <td>588</td>\n",
       "      <td>0.0</td>\n",
       "      <td>0.0</td>\n",
       "      <td>0.0</td>\n",
       "      <td>0.0</td>\n",
       "      <td>0.0</td>\n",
       "      <td>0.0</td>\n",
       "      <td>0.0</td>\n",
       "      <td>0.0</td>\n",
       "    </tr>\n",
       "    <tr>\n",
       "      <th>2</th>\n",
       "      <td>2019-02-11</td>\n",
       "      <td>AA</td>\n",
       "      <td>AA_CODESHARE</td>\n",
       "      <td>5254</td>\n",
       "      <td>OH</td>\n",
       "      <td>N207PS</td>\n",
       "      <td>5254</td>\n",
       "      <td>12197</td>\n",
       "      <td>HPN</td>\n",
       "      <td>White Plains, NY</td>\n",
       "      <td>...</td>\n",
       "      <td>1</td>\n",
       "      <td>234</td>\n",
       "      <td>1.0</td>\n",
       "      <td>0.0</td>\n",
       "      <td>13.0</td>\n",
       "      <td>0.0</td>\n",
       "      <td>52.0</td>\n",
       "      <td>0.0</td>\n",
       "      <td>0.0</td>\n",
       "      <td>0.0</td>\n",
       "    </tr>\n",
       "    <tr>\n",
       "      <th>3</th>\n",
       "      <td>2018-01-16</td>\n",
       "      <td>DL</td>\n",
       "      <td>DL_CODESHARE</td>\n",
       "      <td>7409</td>\n",
       "      <td>OO</td>\n",
       "      <td>N675BR</td>\n",
       "      <td>7409</td>\n",
       "      <td>11013</td>\n",
       "      <td>CIU</td>\n",
       "      <td>Sault Ste. Marie, MI</td>\n",
       "      <td>...</td>\n",
       "      <td>1</td>\n",
       "      <td>284</td>\n",
       "      <td>0.0</td>\n",
       "      <td>0.0</td>\n",
       "      <td>0.0</td>\n",
       "      <td>0.0</td>\n",
       "      <td>0.0</td>\n",
       "      <td>0.0</td>\n",
       "      <td>0.0</td>\n",
       "      <td>0.0</td>\n",
       "    </tr>\n",
       "    <tr>\n",
       "      <th>4</th>\n",
       "      <td>2019-06-27</td>\n",
       "      <td>WN</td>\n",
       "      <td>WN</td>\n",
       "      <td>2360</td>\n",
       "      <td>WN</td>\n",
       "      <td>N7812G</td>\n",
       "      <td>2360</td>\n",
       "      <td>10800</td>\n",
       "      <td>BUR</td>\n",
       "      <td>Burbank, CA</td>\n",
       "      <td>...</td>\n",
       "      <td>1</td>\n",
       "      <td>358</td>\n",
       "      <td>0.0</td>\n",
       "      <td>0.0</td>\n",
       "      <td>0.0</td>\n",
       "      <td>0.0</td>\n",
       "      <td>21.0</td>\n",
       "      <td>0.0</td>\n",
       "      <td>0.0</td>\n",
       "      <td>0.0</td>\n",
       "    </tr>\n",
       "  </tbody>\n",
       "</table>\n",
       "<p>5 rows × 37 columns</p>\n",
       "</div>"
      ],
      "text/plain": [
       "      fl_date mkt_unique_carrier branded_code_share  mkt_carrier_fl_num  \\\n",
       "0  2019-01-08                 DL       DL_CODESHARE                4179   \n",
       "1  2018-05-04                 UA                 UA                 374   \n",
       "2  2019-02-11                 AA       AA_CODESHARE                5254   \n",
       "3  2018-01-16                 DL       DL_CODESHARE                7409   \n",
       "4  2019-06-27                 WN                 WN                2360   \n",
       "\n",
       "  op_unique_carrier tail_num  op_carrier_fl_num  origin_airport_id origin  \\\n",
       "0                OO   N477CA               4179              10408    ATW   \n",
       "1                UA   N61882                374              12264    IAD   \n",
       "2                OH   N207PS               5254              12197    HPN   \n",
       "3                OO   N675BR               7409              11013    CIU   \n",
       "4                WN   N7812G               2360              10800    BUR   \n",
       "\n",
       "       origin_city_name  ...  flights distance carrier_delay  weather_delay  \\\n",
       "0          Appleton, WI  ...        1      296           0.0            0.0   \n",
       "1        Washington, DC  ...        1      588           0.0            0.0   \n",
       "2      White Plains, NY  ...        1      234           1.0            0.0   \n",
       "3  Sault Ste. Marie, MI  ...        1      284           0.0            0.0   \n",
       "4           Burbank, CA  ...        1      358           0.0            0.0   \n",
       "\n",
       "   nas_delay  security_delay  late_aircraft_delay  first_dep_time  \\\n",
       "0        0.0             0.0                  0.0             0.0   \n",
       "1        0.0             0.0                  0.0             0.0   \n",
       "2       13.0             0.0                 52.0             0.0   \n",
       "3        0.0             0.0                  0.0             0.0   \n",
       "4        0.0             0.0                 21.0             0.0   \n",
       "\n",
       "   total_add_gtime  longest_add_gtime  \n",
       "0              0.0                0.0  \n",
       "1              0.0                0.0  \n",
       "2              0.0                0.0  \n",
       "3              0.0                0.0  \n",
       "4              0.0                0.0  \n",
       "\n",
       "[5 rows x 37 columns]"
      ]
     },
     "execution_count": 3,
     "metadata": {},
     "output_type": "execute_result"
    }
   ],
   "source": [
    "df_flights.head()"
   ]
  },
  {
   "cell_type": "code",
   "execution_count": 4,
   "metadata": {},
   "outputs": [
    {
     "data": {
      "text/plain": [
       "fl_date                0\n",
       "mkt_unique_carrier     0\n",
       "branded_code_share     0\n",
       "mkt_carrier_fl_num     0\n",
       "op_unique_carrier      0\n",
       "tail_num               0\n",
       "op_carrier_fl_num      0\n",
       "origin_airport_id      0\n",
       "origin                 0\n",
       "origin_city_name       0\n",
       "dest_airport_id        0\n",
       "dest                   0\n",
       "dest_city_name         0\n",
       "crs_dep_time           0\n",
       "dep_time               0\n",
       "dep_delay              0\n",
       "taxi_out               0\n",
       "wheels_off             0\n",
       "wheels_on              0\n",
       "taxi_in                0\n",
       "crs_arr_time           0\n",
       "arr_time               0\n",
       "arr_delay              0\n",
       "cancelled              0\n",
       "crs_elapsed_time       0\n",
       "actual_elapsed_time    0\n",
       "air_time               0\n",
       "flights                0\n",
       "distance               0\n",
       "carrier_delay          0\n",
       "weather_delay          0\n",
       "nas_delay              0\n",
       "security_delay         0\n",
       "late_aircraft_delay    0\n",
       "first_dep_time         0\n",
       "total_add_gtime        0\n",
       "longest_add_gtime      0\n",
       "dtype: int64"
      ]
     },
     "execution_count": 4,
     "metadata": {},
     "output_type": "execute_result"
    }
   ],
   "source": [
    "df_flights.isnull().sum()"
   ]
  },
  {
   "cell_type": "markdown",
   "metadata": {},
   "source": [
    "## Separating the arr_delay which we want to predict"
   ]
  },
  {
   "cell_type": "code",
   "execution_count": 5,
   "metadata": {},
   "outputs": [],
   "source": [
    "# Separate the predicted variable (arr_delay)\n",
    "y = df_flights['arr_delay']\n",
    "\n",
    "# Remove the predicted variable from the dataframe\n",
    "X = df_flights.drop('arr_delay', axis=1)"
   ]
  },
  {
   "cell_type": "markdown",
   "metadata": {},
   "source": [
    "## Test Train Split"
   ]
  },
  {
   "cell_type": "code",
   "execution_count": 6,
   "metadata": {},
   "outputs": [],
   "source": [
    "from sklearn.model_selection import train_test_split\n",
    "\n",
    "X_train, X_test, y_train, y_test = train_test_split(X, y, test_size = 0.20, random_state = 12)"
   ]
  },
  {
   "cell_type": "code",
   "execution_count": 7,
   "metadata": {},
   "outputs": [
    {
     "data": {
      "text/plain": [
       "((119999, 36), (30000, 36))"
      ]
     },
     "execution_count": 7,
     "metadata": {},
     "output_type": "execute_result"
    }
   ],
   "source": [
    "X_train.shape,X_test.shape"
   ]
  },
  {
   "cell_type": "markdown",
   "metadata": {},
   "source": [
    "## Feature Engineering"
   ]
  },
  {
   "cell_type": "markdown",
   "metadata": {},
   "source": [
    "### Adding taxi out mean timer per hour as feature"
   ]
  },
  {
   "cell_type": "code",
   "execution_count": 8,
   "metadata": {},
   "outputs": [],
   "source": [
    "\n",
    "# Convert 'dep_time' to datetime format\n",
    "X_train['dep_time'] = pd.to_datetime(X_train['dep_time'], format='%H%M', errors='coerce')\n",
    "X_test['dep_time'] = pd.to_datetime(X_test['dep_time'], format='%H%M', errors='coerce')\n",
    "\n",
    "# Calculate mean taxi time per hour\n",
    "X_train['taxi_mean_time'] = X_train.groupby(X_train['dep_time'].dt.hour)['taxi_out'].transform('mean')\n",
    "X_test['taxi_mean_time'] = X_test.groupby(X_test['dep_time'].dt.hour)['taxi_out'].transform('mean')\n",
    "\n"
   ]
  },
  {
   "cell_type": "code",
   "execution_count": 9,
   "metadata": {},
   "outputs": [
    {
     "data": {
      "text/html": [
       "<div>\n",
       "<style scoped>\n",
       "    .dataframe tbody tr th:only-of-type {\n",
       "        vertical-align: middle;\n",
       "    }\n",
       "\n",
       "    .dataframe tbody tr th {\n",
       "        vertical-align: top;\n",
       "    }\n",
       "\n",
       "    .dataframe thead th {\n",
       "        text-align: right;\n",
       "    }\n",
       "</style>\n",
       "<table border=\"1\" class=\"dataframe\">\n",
       "  <thead>\n",
       "    <tr style=\"text-align: right;\">\n",
       "      <th></th>\n",
       "      <th>fl_date</th>\n",
       "      <th>mkt_unique_carrier</th>\n",
       "      <th>branded_code_share</th>\n",
       "      <th>mkt_carrier_fl_num</th>\n",
       "      <th>op_unique_carrier</th>\n",
       "      <th>tail_num</th>\n",
       "      <th>op_carrier_fl_num</th>\n",
       "      <th>origin_airport_id</th>\n",
       "      <th>origin</th>\n",
       "      <th>origin_city_name</th>\n",
       "      <th>...</th>\n",
       "      <th>distance</th>\n",
       "      <th>carrier_delay</th>\n",
       "      <th>weather_delay</th>\n",
       "      <th>nas_delay</th>\n",
       "      <th>security_delay</th>\n",
       "      <th>late_aircraft_delay</th>\n",
       "      <th>first_dep_time</th>\n",
       "      <th>total_add_gtime</th>\n",
       "      <th>longest_add_gtime</th>\n",
       "      <th>taxi_mean_time</th>\n",
       "    </tr>\n",
       "  </thead>\n",
       "  <tbody>\n",
       "    <tr>\n",
       "      <th>137756</th>\n",
       "      <td>2019-04-05</td>\n",
       "      <td>AA</td>\n",
       "      <td>AA_CODESHARE</td>\n",
       "      <td>5398</td>\n",
       "      <td>OH</td>\n",
       "      <td>N593NN</td>\n",
       "      <td>5398</td>\n",
       "      <td>11057</td>\n",
       "      <td>CLT</td>\n",
       "      <td>Charlotte, NC</td>\n",
       "      <td>...</td>\n",
       "      <td>416</td>\n",
       "      <td>0.0</td>\n",
       "      <td>0.0</td>\n",
       "      <td>0.0</td>\n",
       "      <td>0.0</td>\n",
       "      <td>0.0</td>\n",
       "      <td>0.0</td>\n",
       "      <td>0.0</td>\n",
       "      <td>0.0</td>\n",
       "      <td>16.810807</td>\n",
       "    </tr>\n",
       "    <tr>\n",
       "      <th>12616</th>\n",
       "      <td>2019-09-29</td>\n",
       "      <td>UA</td>\n",
       "      <td>UA</td>\n",
       "      <td>1482</td>\n",
       "      <td>UA</td>\n",
       "      <td>N447UA</td>\n",
       "      <td>1482</td>\n",
       "      <td>13930</td>\n",
       "      <td>ORD</td>\n",
       "      <td>Chicago, IL</td>\n",
       "      <td>...</td>\n",
       "      <td>723</td>\n",
       "      <td>13.0</td>\n",
       "      <td>0.0</td>\n",
       "      <td>0.0</td>\n",
       "      <td>0.0</td>\n",
       "      <td>79.0</td>\n",
       "      <td>0.0</td>\n",
       "      <td>0.0</td>\n",
       "      <td>0.0</td>\n",
       "      <td>17.023382</td>\n",
       "    </tr>\n",
       "    <tr>\n",
       "      <th>119262</th>\n",
       "      <td>2018-09-28</td>\n",
       "      <td>HA</td>\n",
       "      <td>HA</td>\n",
       "      <td>8</td>\n",
       "      <td>HA</td>\n",
       "      <td>N388HA</td>\n",
       "      <td>8</td>\n",
       "      <td>12173</td>\n",
       "      <td>HNL</td>\n",
       "      <td>Honolulu, HI</td>\n",
       "      <td>...</td>\n",
       "      <td>2762</td>\n",
       "      <td>0.0</td>\n",
       "      <td>0.0</td>\n",
       "      <td>0.0</td>\n",
       "      <td>0.0</td>\n",
       "      <td>0.0</td>\n",
       "      <td>0.0</td>\n",
       "      <td>0.0</td>\n",
       "      <td>0.0</td>\n",
       "      <td>16.655672</td>\n",
       "    </tr>\n",
       "    <tr>\n",
       "      <th>7808</th>\n",
       "      <td>2018-09-25</td>\n",
       "      <td>WN</td>\n",
       "      <td>WN</td>\n",
       "      <td>5662</td>\n",
       "      <td>WN</td>\n",
       "      <td>N925WN</td>\n",
       "      <td>5662</td>\n",
       "      <td>11292</td>\n",
       "      <td>DEN</td>\n",
       "      <td>Denver, CO</td>\n",
       "      <td>...</td>\n",
       "      <td>883</td>\n",
       "      <td>0.0</td>\n",
       "      <td>0.0</td>\n",
       "      <td>0.0</td>\n",
       "      <td>0.0</td>\n",
       "      <td>0.0</td>\n",
       "      <td>0.0</td>\n",
       "      <td>0.0</td>\n",
       "      <td>0.0</td>\n",
       "      <td>18.278131</td>\n",
       "    </tr>\n",
       "    <tr>\n",
       "      <th>68778</th>\n",
       "      <td>2018-04-23</td>\n",
       "      <td>WN</td>\n",
       "      <td>WN</td>\n",
       "      <td>5391</td>\n",
       "      <td>WN</td>\n",
       "      <td>N273WN</td>\n",
       "      <td>5391</td>\n",
       "      <td>15304</td>\n",
       "      <td>TPA</td>\n",
       "      <td>Tampa, FL</td>\n",
       "      <td>...</td>\n",
       "      <td>842</td>\n",
       "      <td>0.0</td>\n",
       "      <td>0.0</td>\n",
       "      <td>0.0</td>\n",
       "      <td>0.0</td>\n",
       "      <td>0.0</td>\n",
       "      <td>0.0</td>\n",
       "      <td>0.0</td>\n",
       "      <td>0.0</td>\n",
       "      <td>16.762362</td>\n",
       "    </tr>\n",
       "  </tbody>\n",
       "</table>\n",
       "<p>5 rows × 37 columns</p>\n",
       "</div>"
      ],
      "text/plain": [
       "           fl_date mkt_unique_carrier branded_code_share  mkt_carrier_fl_num  \\\n",
       "137756  2019-04-05                 AA       AA_CODESHARE                5398   \n",
       "12616   2019-09-29                 UA                 UA                1482   \n",
       "119262  2018-09-28                 HA                 HA                   8   \n",
       "7808    2018-09-25                 WN                 WN                5662   \n",
       "68778   2018-04-23                 WN                 WN                5391   \n",
       "\n",
       "       op_unique_carrier tail_num  op_carrier_fl_num  origin_airport_id  \\\n",
       "137756                OH   N593NN               5398              11057   \n",
       "12616                 UA   N447UA               1482              13930   \n",
       "119262                HA   N388HA                  8              12173   \n",
       "7808                  WN   N925WN               5662              11292   \n",
       "68778                 WN   N273WN               5391              15304   \n",
       "\n",
       "       origin origin_city_name  ...  distance carrier_delay weather_delay  \\\n",
       "137756    CLT    Charlotte, NC  ...       416           0.0           0.0   \n",
       "12616     ORD      Chicago, IL  ...       723          13.0           0.0   \n",
       "119262    HNL     Honolulu, HI  ...      2762           0.0           0.0   \n",
       "7808      DEN       Denver, CO  ...       883           0.0           0.0   \n",
       "68778     TPA        Tampa, FL  ...       842           0.0           0.0   \n",
       "\n",
       "        nas_delay security_delay  late_aircraft_delay  first_dep_time  \\\n",
       "137756        0.0            0.0                  0.0             0.0   \n",
       "12616         0.0            0.0                 79.0             0.0   \n",
       "119262        0.0            0.0                  0.0             0.0   \n",
       "7808          0.0            0.0                  0.0             0.0   \n",
       "68778         0.0            0.0                  0.0             0.0   \n",
       "\n",
       "        total_add_gtime  longest_add_gtime  taxi_mean_time  \n",
       "137756              0.0                0.0       16.810807  \n",
       "12616               0.0                0.0       17.023382  \n",
       "119262              0.0                0.0       16.655672  \n",
       "7808                0.0                0.0       18.278131  \n",
       "68778               0.0                0.0       16.762362  \n",
       "\n",
       "[5 rows x 37 columns]"
      ]
     },
     "execution_count": 9,
     "metadata": {},
     "output_type": "execute_result"
    }
   ],
   "source": [
    "X_train.head()"
   ]
  },
  {
   "cell_type": "code",
   "execution_count": 10,
   "metadata": {},
   "outputs": [
    {
     "data": {
      "text/plain": [
       "fl_date                  0\n",
       "mkt_unique_carrier       0\n",
       "branded_code_share       0\n",
       "mkt_carrier_fl_num       0\n",
       "op_unique_carrier        0\n",
       "tail_num                 0\n",
       "op_carrier_fl_num        0\n",
       "origin_airport_id        0\n",
       "origin                   0\n",
       "origin_city_name         0\n",
       "dest_airport_id          0\n",
       "dest                     0\n",
       "dest_city_name           0\n",
       "crs_dep_time             0\n",
       "dep_time               110\n",
       "dep_delay                0\n",
       "taxi_out                 0\n",
       "wheels_off               0\n",
       "wheels_on                0\n",
       "taxi_in                  0\n",
       "crs_arr_time             0\n",
       "arr_time                 0\n",
       "cancelled                0\n",
       "crs_elapsed_time         0\n",
       "actual_elapsed_time      0\n",
       "air_time                 0\n",
       "flights                  0\n",
       "distance                 0\n",
       "carrier_delay            0\n",
       "weather_delay            0\n",
       "nas_delay                0\n",
       "security_delay           0\n",
       "late_aircraft_delay      0\n",
       "first_dep_time           0\n",
       "total_add_gtime          0\n",
       "longest_add_gtime        0\n",
       "taxi_mean_time         110\n",
       "dtype: int64"
      ]
     },
     "execution_count": 10,
     "metadata": {},
     "output_type": "execute_result"
    }
   ],
   "source": [
    "X_train.isna().sum()"
   ]
  },
  {
   "cell_type": "markdown",
   "metadata": {},
   "source": [
    "### Repalcing Nan with mean"
   ]
  },
  {
   "cell_type": "code",
   "execution_count": 11,
   "metadata": {},
   "outputs": [],
   "source": [
    "# Calculate the overall mean of the 'taxi_out' column\n",
    "overall_mean_dep_time_x_train = X_train['dep_time'].mean()\n",
    "overall_mean_dep_time_x_test = X_test['dep_time'].mean()\n",
    "# Calculate mean taxi time per hour using map function\n",
    "\n",
    "X_train['dep_time'].replace(np.nan,overall_mean_dep_time_x_train, inplace=True)\n",
    "X_test['dep_time'].replace(np.nan,overall_mean_dep_time_x_test, inplace=True)"
   ]
  },
  {
   "cell_type": "code",
   "execution_count": 12,
   "metadata": {},
   "outputs": [],
   "source": [
    "# Calculate the overall mean of the 'taxi_out' column\n",
    "overall_mean_taxi_out_x_train = X_train['taxi_out'].mean()\n",
    "overall_mean_taxi_out_x_test = X_test['taxi_out'].mean()\n",
    "# Calculate mean taxi time per hour using map function\n",
    "\n",
    "X_train['taxi_mean_time'].replace(np.nan,overall_mean_taxi_out_x_train, inplace=True)\n",
    "X_test['taxi_mean_time'].replace(np.nan,overall_mean_taxi_out_x_test, inplace=True)"
   ]
  },
  {
   "cell_type": "code",
   "execution_count": 13,
   "metadata": {},
   "outputs": [
    {
     "data": {
      "text/plain": [
       "fl_date                0\n",
       "mkt_unique_carrier     0\n",
       "branded_code_share     0\n",
       "mkt_carrier_fl_num     0\n",
       "op_unique_carrier      0\n",
       "tail_num               0\n",
       "op_carrier_fl_num      0\n",
       "origin_airport_id      0\n",
       "origin                 0\n",
       "origin_city_name       0\n",
       "dest_airport_id        0\n",
       "dest                   0\n",
       "dest_city_name         0\n",
       "crs_dep_time           0\n",
       "dep_time               0\n",
       "dep_delay              0\n",
       "taxi_out               0\n",
       "wheels_off             0\n",
       "wheels_on              0\n",
       "taxi_in                0\n",
       "crs_arr_time           0\n",
       "arr_time               0\n",
       "cancelled              0\n",
       "crs_elapsed_time       0\n",
       "actual_elapsed_time    0\n",
       "air_time               0\n",
       "flights                0\n",
       "distance               0\n",
       "carrier_delay          0\n",
       "weather_delay          0\n",
       "nas_delay              0\n",
       "security_delay         0\n",
       "late_aircraft_delay    0\n",
       "first_dep_time         0\n",
       "total_add_gtime        0\n",
       "longest_add_gtime      0\n",
       "taxi_mean_time         0\n",
       "dtype: int64"
      ]
     },
     "execution_count": 13,
     "metadata": {},
     "output_type": "execute_result"
    }
   ],
   "source": [
    "X_train.isna().sum()"
   ]
  },
  {
   "cell_type": "code",
   "execution_count": 14,
   "metadata": {},
   "outputs": [],
   "source": [
    "X_train['dep_time'] = pd.to_datetime(X_train['dep_time']).dt.strftime('%H%M')\n",
    "X_test['dep_time'] = pd.to_datetime(X_test['dep_time']).dt.strftime('%H%M')\n"
   ]
  },
  {
   "cell_type": "markdown",
   "metadata": {},
   "source": [
    "### Explornig date time - Extract year , month , day of month, day of week"
   ]
  },
  {
   "cell_type": "code",
   "execution_count": 15,
   "metadata": {},
   "outputs": [],
   "source": [
    "# Explorinig date time - Extract year , month , day of month, day of week\n",
    "\n",
    "X_train['fl_date'] = pd.to_datetime(X_train['fl_date'], errors='coerce')\n",
    "X_train['year'] = X_train['fl_date'].dt.year\n",
    "X_train['month'] = X_train['fl_date'].dt.month\n",
    "X_train['day_of_month'] = X_train['fl_date'].dt.day\n",
    "X_train['day_of_week'] = X_train['fl_date'].dt.dayofweek\n",
    "X_train['dep_hour'] = X_train['crs_dep_time'] // 100\n",
    "\n",
    "\n",
    "X_test['fl_date'] = pd.to_datetime(X_test['fl_date'], errors='coerce')\n",
    "X_test['year'] = X_test['fl_date'].dt.year\n",
    "X_test['month'] = X_test['fl_date'].dt.month\n",
    "X_test['day_of_month'] = X_test['fl_date'].dt.day\n",
    "X_test['day_of_week'] = X_test['fl_date'].dt.dayofweek\n",
    "X_test['dep_hour'] = X_test['crs_dep_time'] // 100\n",
    "\n"
   ]
  },
  {
   "cell_type": "code",
   "execution_count": 16,
   "metadata": {},
   "outputs": [
    {
     "data": {
      "text/plain": [
       "fl_date                0\n",
       "mkt_unique_carrier     0\n",
       "branded_code_share     0\n",
       "mkt_carrier_fl_num     0\n",
       "op_unique_carrier      0\n",
       "tail_num               0\n",
       "op_carrier_fl_num      0\n",
       "origin_airport_id      0\n",
       "origin                 0\n",
       "origin_city_name       0\n",
       "dest_airport_id        0\n",
       "dest                   0\n",
       "dest_city_name         0\n",
       "crs_dep_time           0\n",
       "dep_time               0\n",
       "dep_delay              0\n",
       "taxi_out               0\n",
       "wheels_off             0\n",
       "wheels_on              0\n",
       "taxi_in                0\n",
       "crs_arr_time           0\n",
       "arr_time               0\n",
       "cancelled              0\n",
       "crs_elapsed_time       0\n",
       "actual_elapsed_time    0\n",
       "air_time               0\n",
       "flights                0\n",
       "distance               0\n",
       "carrier_delay          0\n",
       "weather_delay          0\n",
       "nas_delay              0\n",
       "security_delay         0\n",
       "late_aircraft_delay    0\n",
       "first_dep_time         0\n",
       "total_add_gtime        0\n",
       "longest_add_gtime      0\n",
       "taxi_mean_time         0\n",
       "year                   0\n",
       "month                  0\n",
       "day_of_month           0\n",
       "day_of_week            0\n",
       "dep_hour               0\n",
       "dtype: int64"
      ]
     },
     "execution_count": 16,
     "metadata": {},
     "output_type": "execute_result"
    }
   ],
   "source": [
    "X_train.isna().sum()"
   ]
  },
  {
   "cell_type": "code",
   "execution_count": 17,
   "metadata": {},
   "outputs": [],
   "source": [
    "# Create a new column for the time of day\n",
    "X_train['time_of_day'] = ''\n",
    "X_train.loc[(X_train['dep_hour'] >= 0) & (X_train['dep_hour'] < 6), 'time_of_day'] = 'night'\n",
    "X_train.loc[(X_train['dep_hour'] >= 6) & (X_train['dep_hour'] < 12), 'time_of_day'] = 'morning'\n",
    "X_train.loc[(X_train['dep_hour'] >= 12) & (X_train['dep_hour'] < 18), 'time_of_day'] = 'afternoon'\n",
    "X_train.loc[(X_train['dep_hour'] >= 18) & (X_train['dep_hour'] <= 24), 'time_of_day'] = 'evening'\n",
    "\n",
    "X_test['time_of_day'] = ''\n",
    "X_test.loc[(X_test['dep_hour'] >= 0) & (X_test['dep_hour'] < 6), 'time_of_day'] = 'night'\n",
    "X_test.loc[(X_test['dep_hour'] >= 6) & (X_test['dep_hour'] < 12), 'time_of_day'] = 'morning'\n",
    "X_test.loc[(X_test['dep_hour'] >= 12) & (X_test['dep_hour'] < 18), 'time_of_day'] = 'afternoon'\n",
    "X_test.loc[(X_test['dep_hour'] >= 18) & (X_test['dep_hour'] <= 24), 'time_of_day'] = 'evening'"
   ]
  },
  {
   "cell_type": "markdown",
   "metadata": {},
   "source": [
    "### Calculates the departure traffic for each origin airport per day "
   ]
  },
  {
   "cell_type": "code",
   "execution_count": 18,
   "metadata": {},
   "outputs": [],
   "source": [
    "X_train['dep_traffic_per_day'] = X_train.groupby([\"origin\", \"fl_date\"])[\"flights\"].transform('sum')\n",
    "X_test['dep_traffic_per_day'] = X_test.groupby([\"origin\", \"fl_date\"])[\"flights\"].transform('sum')"
   ]
  },
  {
   "cell_type": "code",
   "execution_count": 19,
   "metadata": {},
   "outputs": [
    {
     "data": {
      "text/html": [
       "<div>\n",
       "<style scoped>\n",
       "    .dataframe tbody tr th:only-of-type {\n",
       "        vertical-align: middle;\n",
       "    }\n",
       "\n",
       "    .dataframe tbody tr th {\n",
       "        vertical-align: top;\n",
       "    }\n",
       "\n",
       "    .dataframe thead th {\n",
       "        text-align: right;\n",
       "    }\n",
       "</style>\n",
       "<table border=\"1\" class=\"dataframe\">\n",
       "  <thead>\n",
       "    <tr style=\"text-align: right;\">\n",
       "      <th></th>\n",
       "      <th>fl_date</th>\n",
       "      <th>mkt_unique_carrier</th>\n",
       "      <th>branded_code_share</th>\n",
       "      <th>mkt_carrier_fl_num</th>\n",
       "      <th>op_unique_carrier</th>\n",
       "      <th>tail_num</th>\n",
       "      <th>op_carrier_fl_num</th>\n",
       "      <th>origin_airport_id</th>\n",
       "      <th>origin</th>\n",
       "      <th>origin_city_name</th>\n",
       "      <th>...</th>\n",
       "      <th>total_add_gtime</th>\n",
       "      <th>longest_add_gtime</th>\n",
       "      <th>taxi_mean_time</th>\n",
       "      <th>year</th>\n",
       "      <th>month</th>\n",
       "      <th>day_of_month</th>\n",
       "      <th>day_of_week</th>\n",
       "      <th>dep_hour</th>\n",
       "      <th>time_of_day</th>\n",
       "      <th>dep_traffic_per_day</th>\n",
       "    </tr>\n",
       "  </thead>\n",
       "  <tbody>\n",
       "    <tr>\n",
       "      <th>48488</th>\n",
       "      <td>2018-02-09</td>\n",
       "      <td>AA</td>\n",
       "      <td>AA</td>\n",
       "      <td>103</td>\n",
       "      <td>AA</td>\n",
       "      <td>N866NN</td>\n",
       "      <td>103</td>\n",
       "      <td>11298</td>\n",
       "      <td>DFW</td>\n",
       "      <td>Dallas/Fort Worth, TX</td>\n",
       "      <td>...</td>\n",
       "      <td>0.0</td>\n",
       "      <td>0.0</td>\n",
       "      <td>17.563717</td>\n",
       "      <td>2018</td>\n",
       "      <td>2</td>\n",
       "      <td>9</td>\n",
       "      <td>4</td>\n",
       "      <td>11</td>\n",
       "      <td>morning</td>\n",
       "      <td>4</td>\n",
       "    </tr>\n",
       "    <tr>\n",
       "      <th>42072</th>\n",
       "      <td>2018-11-14</td>\n",
       "      <td>UA</td>\n",
       "      <td>UA_CODESHARE</td>\n",
       "      <td>6017</td>\n",
       "      <td>YV</td>\n",
       "      <td>N80348</td>\n",
       "      <td>6017</td>\n",
       "      <td>10140</td>\n",
       "      <td>ABQ</td>\n",
       "      <td>Albuquerque, NM</td>\n",
       "      <td>...</td>\n",
       "      <td>0.0</td>\n",
       "      <td>0.0</td>\n",
       "      <td>16.801774</td>\n",
       "      <td>2018</td>\n",
       "      <td>11</td>\n",
       "      <td>14</td>\n",
       "      <td>2</td>\n",
       "      <td>12</td>\n",
       "      <td>afternoon</td>\n",
       "      <td>1</td>\n",
       "    </tr>\n",
       "    <tr>\n",
       "      <th>35120</th>\n",
       "      <td>2018-03-07</td>\n",
       "      <td>AA</td>\n",
       "      <td>AA_CODESHARE</td>\n",
       "      <td>5886</td>\n",
       "      <td>YV</td>\n",
       "      <td>N955LR</td>\n",
       "      <td>5886</td>\n",
       "      <td>13277</td>\n",
       "      <td>MGM</td>\n",
       "      <td>Montgomery, AL</td>\n",
       "      <td>...</td>\n",
       "      <td>0.0</td>\n",
       "      <td>0.0</td>\n",
       "      <td>15.859143</td>\n",
       "      <td>2018</td>\n",
       "      <td>3</td>\n",
       "      <td>7</td>\n",
       "      <td>2</td>\n",
       "      <td>5</td>\n",
       "      <td>night</td>\n",
       "      <td>1</td>\n",
       "    </tr>\n",
       "    <tr>\n",
       "      <th>4627</th>\n",
       "      <td>2019-09-04</td>\n",
       "      <td>DL</td>\n",
       "      <td>DL_CODESHARE</td>\n",
       "      <td>3820</td>\n",
       "      <td>OO</td>\n",
       "      <td>N268SY</td>\n",
       "      <td>3820</td>\n",
       "      <td>12953</td>\n",
       "      <td>LGA</td>\n",
       "      <td>New York, NY</td>\n",
       "      <td>...</td>\n",
       "      <td>0.0</td>\n",
       "      <td>0.0</td>\n",
       "      <td>17.547739</td>\n",
       "      <td>2019</td>\n",
       "      <td>9</td>\n",
       "      <td>4</td>\n",
       "      <td>2</td>\n",
       "      <td>21</td>\n",
       "      <td>evening</td>\n",
       "      <td>3</td>\n",
       "    </tr>\n",
       "    <tr>\n",
       "      <th>38836</th>\n",
       "      <td>2019-04-14</td>\n",
       "      <td>G4</td>\n",
       "      <td>G4</td>\n",
       "      <td>2109</td>\n",
       "      <td>G4</td>\n",
       "      <td>260NV</td>\n",
       "      <td>2109</td>\n",
       "      <td>14025</td>\n",
       "      <td>PBG</td>\n",
       "      <td>Plattsburgh, NY</td>\n",
       "      <td>...</td>\n",
       "      <td>0.0</td>\n",
       "      <td>0.0</td>\n",
       "      <td>17.539798</td>\n",
       "      <td>2019</td>\n",
       "      <td>4</td>\n",
       "      <td>14</td>\n",
       "      <td>6</td>\n",
       "      <td>10</td>\n",
       "      <td>morning</td>\n",
       "      <td>1</td>\n",
       "    </tr>\n",
       "  </tbody>\n",
       "</table>\n",
       "<p>5 rows × 44 columns</p>\n",
       "</div>"
      ],
      "text/plain": [
       "         fl_date mkt_unique_carrier branded_code_share  mkt_carrier_fl_num  \\\n",
       "48488 2018-02-09                 AA                 AA                 103   \n",
       "42072 2018-11-14                 UA       UA_CODESHARE                6017   \n",
       "35120 2018-03-07                 AA       AA_CODESHARE                5886   \n",
       "4627  2019-09-04                 DL       DL_CODESHARE                3820   \n",
       "38836 2019-04-14                 G4                 G4                2109   \n",
       "\n",
       "      op_unique_carrier tail_num  op_carrier_fl_num  origin_airport_id origin  \\\n",
       "48488                AA   N866NN                103              11298    DFW   \n",
       "42072                YV   N80348               6017              10140    ABQ   \n",
       "35120                YV   N955LR               5886              13277    MGM   \n",
       "4627                 OO   N268SY               3820              12953    LGA   \n",
       "38836                G4    260NV               2109              14025    PBG   \n",
       "\n",
       "            origin_city_name  ...  total_add_gtime longest_add_gtime  \\\n",
       "48488  Dallas/Fort Worth, TX  ...              0.0               0.0   \n",
       "42072        Albuquerque, NM  ...              0.0               0.0   \n",
       "35120         Montgomery, AL  ...              0.0               0.0   \n",
       "4627            New York, NY  ...              0.0               0.0   \n",
       "38836        Plattsburgh, NY  ...              0.0               0.0   \n",
       "\n",
       "      taxi_mean_time  year month  day_of_month  day_of_week  dep_hour  \\\n",
       "48488      17.563717  2018     2             9            4        11   \n",
       "42072      16.801774  2018    11            14            2        12   \n",
       "35120      15.859143  2018     3             7            2         5   \n",
       "4627       17.547739  2019     9             4            2        21   \n",
       "38836      17.539798  2019     4            14            6        10   \n",
       "\n",
       "       time_of_day  dep_traffic_per_day  \n",
       "48488      morning                    4  \n",
       "42072    afternoon                    1  \n",
       "35120        night                    1  \n",
       "4627       evening                    3  \n",
       "38836      morning                    1  \n",
       "\n",
       "[5 rows x 44 columns]"
      ]
     },
     "execution_count": 19,
     "metadata": {},
     "output_type": "execute_result"
    }
   ],
   "source": [
    "X_test.head()"
   ]
  },
  {
   "cell_type": "markdown",
   "metadata": {},
   "source": [
    "### Creating feature average delay per airline"
   ]
  },
  {
   "cell_type": "code",
   "execution_count": 20,
   "metadata": {},
   "outputs": [],
   "source": [
    "# Calculate average departure delay per airline\n",
    "average_delay_per_airline_x_train = X_train.groupby('mkt_unique_carrier')['dep_delay'].mean()\n",
    "average_delay_per_airline_x_test = X_test.groupby('mkt_unique_carrier')['dep_delay'].mean()\n",
    "\n",
    "# Map the average delay values to the corresponding airlines\n",
    "X_train['avg_delay_per_airline'] = X_train['mkt_unique_carrier'].map(average_delay_per_airline_x_train)\n",
    "X_test['avg_delay_per_airline'] = X_test['mkt_unique_carrier'].map(average_delay_per_airline_x_test)\n"
   ]
  },
  {
   "cell_type": "code",
   "execution_count": 21,
   "metadata": {},
   "outputs": [
    {
     "data": {
      "text/html": [
       "<div>\n",
       "<style scoped>\n",
       "    .dataframe tbody tr th:only-of-type {\n",
       "        vertical-align: middle;\n",
       "    }\n",
       "\n",
       "    .dataframe tbody tr th {\n",
       "        vertical-align: top;\n",
       "    }\n",
       "\n",
       "    .dataframe thead th {\n",
       "        text-align: right;\n",
       "    }\n",
       "</style>\n",
       "<table border=\"1\" class=\"dataframe\">\n",
       "  <thead>\n",
       "    <tr style=\"text-align: right;\">\n",
       "      <th></th>\n",
       "      <th>fl_date</th>\n",
       "      <th>mkt_unique_carrier</th>\n",
       "      <th>branded_code_share</th>\n",
       "      <th>mkt_carrier_fl_num</th>\n",
       "      <th>op_unique_carrier</th>\n",
       "      <th>tail_num</th>\n",
       "      <th>op_carrier_fl_num</th>\n",
       "      <th>origin_airport_id</th>\n",
       "      <th>origin</th>\n",
       "      <th>origin_city_name</th>\n",
       "      <th>...</th>\n",
       "      <th>longest_add_gtime</th>\n",
       "      <th>taxi_mean_time</th>\n",
       "      <th>year</th>\n",
       "      <th>month</th>\n",
       "      <th>day_of_month</th>\n",
       "      <th>day_of_week</th>\n",
       "      <th>dep_hour</th>\n",
       "      <th>time_of_day</th>\n",
       "      <th>dep_traffic_per_day</th>\n",
       "      <th>avg_delay_per_airline</th>\n",
       "    </tr>\n",
       "  </thead>\n",
       "  <tbody>\n",
       "    <tr>\n",
       "      <th>137756</th>\n",
       "      <td>2019-04-05</td>\n",
       "      <td>AA</td>\n",
       "      <td>AA_CODESHARE</td>\n",
       "      <td>5398</td>\n",
       "      <td>OH</td>\n",
       "      <td>N593NN</td>\n",
       "      <td>5398</td>\n",
       "      <td>11057</td>\n",
       "      <td>CLT</td>\n",
       "      <td>Charlotte, NC</td>\n",
       "      <td>...</td>\n",
       "      <td>0.0</td>\n",
       "      <td>16.810807</td>\n",
       "      <td>2019</td>\n",
       "      <td>4</td>\n",
       "      <td>5</td>\n",
       "      <td>4</td>\n",
       "      <td>13</td>\n",
       "      <td>afternoon</td>\n",
       "      <td>6</td>\n",
       "      <td>9.929083</td>\n",
       "    </tr>\n",
       "    <tr>\n",
       "      <th>12616</th>\n",
       "      <td>2019-09-29</td>\n",
       "      <td>UA</td>\n",
       "      <td>UA</td>\n",
       "      <td>1482</td>\n",
       "      <td>UA</td>\n",
       "      <td>N447UA</td>\n",
       "      <td>1482</td>\n",
       "      <td>13930</td>\n",
       "      <td>ORD</td>\n",
       "      <td>Chicago, IL</td>\n",
       "      <td>...</td>\n",
       "      <td>0.0</td>\n",
       "      <td>17.023382</td>\n",
       "      <td>2019</td>\n",
       "      <td>9</td>\n",
       "      <td>29</td>\n",
       "      <td>6</td>\n",
       "      <td>9</td>\n",
       "      <td>morning</td>\n",
       "      <td>13</td>\n",
       "      <td>12.683598</td>\n",
       "    </tr>\n",
       "    <tr>\n",
       "      <th>119262</th>\n",
       "      <td>2018-09-28</td>\n",
       "      <td>HA</td>\n",
       "      <td>HA</td>\n",
       "      <td>8</td>\n",
       "      <td>HA</td>\n",
       "      <td>N388HA</td>\n",
       "      <td>8</td>\n",
       "      <td>12173</td>\n",
       "      <td>HNL</td>\n",
       "      <td>Honolulu, HI</td>\n",
       "      <td>...</td>\n",
       "      <td>0.0</td>\n",
       "      <td>16.655672</td>\n",
       "      <td>2018</td>\n",
       "      <td>9</td>\n",
       "      <td>28</td>\n",
       "      <td>4</td>\n",
       "      <td>22</td>\n",
       "      <td>evening</td>\n",
       "      <td>4</td>\n",
       "      <td>0.900568</td>\n",
       "    </tr>\n",
       "    <tr>\n",
       "      <th>7808</th>\n",
       "      <td>2018-09-25</td>\n",
       "      <td>WN</td>\n",
       "      <td>WN</td>\n",
       "      <td>5662</td>\n",
       "      <td>WN</td>\n",
       "      <td>N925WN</td>\n",
       "      <td>5662</td>\n",
       "      <td>11292</td>\n",
       "      <td>DEN</td>\n",
       "      <td>Denver, CO</td>\n",
       "      <td>...</td>\n",
       "      <td>0.0</td>\n",
       "      <td>18.278131</td>\n",
       "      <td>2018</td>\n",
       "      <td>9</td>\n",
       "      <td>25</td>\n",
       "      <td>1</td>\n",
       "      <td>20</td>\n",
       "      <td>evening</td>\n",
       "      <td>8</td>\n",
       "      <td>10.736714</td>\n",
       "    </tr>\n",
       "    <tr>\n",
       "      <th>68778</th>\n",
       "      <td>2018-04-23</td>\n",
       "      <td>WN</td>\n",
       "      <td>WN</td>\n",
       "      <td>5391</td>\n",
       "      <td>WN</td>\n",
       "      <td>N273WN</td>\n",
       "      <td>5391</td>\n",
       "      <td>15304</td>\n",
       "      <td>TPA</td>\n",
       "      <td>Tampa, FL</td>\n",
       "      <td>...</td>\n",
       "      <td>0.0</td>\n",
       "      <td>16.762362</td>\n",
       "      <td>2018</td>\n",
       "      <td>4</td>\n",
       "      <td>23</td>\n",
       "      <td>0</td>\n",
       "      <td>14</td>\n",
       "      <td>afternoon</td>\n",
       "      <td>3</td>\n",
       "      <td>10.736714</td>\n",
       "    </tr>\n",
       "  </tbody>\n",
       "</table>\n",
       "<p>5 rows × 45 columns</p>\n",
       "</div>"
      ],
      "text/plain": [
       "          fl_date mkt_unique_carrier branded_code_share  mkt_carrier_fl_num  \\\n",
       "137756 2019-04-05                 AA       AA_CODESHARE                5398   \n",
       "12616  2019-09-29                 UA                 UA                1482   \n",
       "119262 2018-09-28                 HA                 HA                   8   \n",
       "7808   2018-09-25                 WN                 WN                5662   \n",
       "68778  2018-04-23                 WN                 WN                5391   \n",
       "\n",
       "       op_unique_carrier tail_num  op_carrier_fl_num  origin_airport_id  \\\n",
       "137756                OH   N593NN               5398              11057   \n",
       "12616                 UA   N447UA               1482              13930   \n",
       "119262                HA   N388HA                  8              12173   \n",
       "7808                  WN   N925WN               5662              11292   \n",
       "68778                 WN   N273WN               5391              15304   \n",
       "\n",
       "       origin origin_city_name  ...  longest_add_gtime taxi_mean_time  year  \\\n",
       "137756    CLT    Charlotte, NC  ...                0.0      16.810807  2019   \n",
       "12616     ORD      Chicago, IL  ...                0.0      17.023382  2019   \n",
       "119262    HNL     Honolulu, HI  ...                0.0      16.655672  2018   \n",
       "7808      DEN       Denver, CO  ...                0.0      18.278131  2018   \n",
       "68778     TPA        Tampa, FL  ...                0.0      16.762362  2018   \n",
       "\n",
       "        month day_of_month  day_of_week  dep_hour  time_of_day  \\\n",
       "137756      4            5            4        13    afternoon   \n",
       "12616       9           29            6         9      morning   \n",
       "119262      9           28            4        22      evening   \n",
       "7808        9           25            1        20      evening   \n",
       "68778       4           23            0        14    afternoon   \n",
       "\n",
       "        dep_traffic_per_day  avg_delay_per_airline  \n",
       "137756                    6               9.929083  \n",
       "12616                    13              12.683598  \n",
       "119262                    4               0.900568  \n",
       "7808                      8              10.736714  \n",
       "68778                     3              10.736714  \n",
       "\n",
       "[5 rows x 45 columns]"
      ]
     },
     "execution_count": 21,
     "metadata": {},
     "output_type": "execute_result"
    }
   ],
   "source": [
    "X_train.head(5)"
   ]
  },
  {
   "cell_type": "markdown",
   "metadata": {},
   "source": [
    "### Creating feature - average monthly passengers"
   ]
  },
  {
   "cell_type": "code",
   "execution_count": 22,
   "metadata": {},
   "outputs": [],
   "source": [
    "# Calling function from data_cleaning \n",
    "\n",
    "from data_cleaning import avg_passengers\n"
   ]
  },
  {
   "cell_type": "code",
   "execution_count": 23,
   "metadata": {},
   "outputs": [],
   "source": [
    "# loading passengers csv into dataframe\n",
    "passengers = pd.read_csv('data/passengers.csv')"
   ]
  },
  {
   "cell_type": "code",
   "execution_count": 24,
   "metadata": {},
   "outputs": [],
   "source": [
    "# Calling function with flights and passengers dataframe\n",
    "\n",
    "X_train = avg_passengers(X_train,passengers)\n",
    "X_test = avg_passengers(X_test,passengers)"
   ]
  },
  {
   "cell_type": "code",
   "execution_count": 25,
   "metadata": {},
   "outputs": [
    {
     "data": {
      "text/html": [
       "<div>\n",
       "<style scoped>\n",
       "    .dataframe tbody tr th:only-of-type {\n",
       "        vertical-align: middle;\n",
       "    }\n",
       "\n",
       "    .dataframe tbody tr th {\n",
       "        vertical-align: top;\n",
       "    }\n",
       "\n",
       "    .dataframe thead th {\n",
       "        text-align: right;\n",
       "    }\n",
       "</style>\n",
       "<table border=\"1\" class=\"dataframe\">\n",
       "  <thead>\n",
       "    <tr style=\"text-align: right;\">\n",
       "      <th></th>\n",
       "      <th>fl_date</th>\n",
       "      <th>mkt_unique_carrier</th>\n",
       "      <th>branded_code_share</th>\n",
       "      <th>mkt_carrier_fl_num</th>\n",
       "      <th>op_unique_carrier</th>\n",
       "      <th>tail_num</th>\n",
       "      <th>op_carrier_fl_num</th>\n",
       "      <th>origin_airport_id</th>\n",
       "      <th>origin</th>\n",
       "      <th>origin_city_name</th>\n",
       "      <th>...</th>\n",
       "      <th>taxi_mean_time</th>\n",
       "      <th>year</th>\n",
       "      <th>month</th>\n",
       "      <th>day_of_month</th>\n",
       "      <th>day_of_week</th>\n",
       "      <th>dep_hour</th>\n",
       "      <th>time_of_day</th>\n",
       "      <th>dep_traffic_per_day</th>\n",
       "      <th>avg_delay_per_airline</th>\n",
       "      <th>monthly_avg_passengers</th>\n",
       "    </tr>\n",
       "  </thead>\n",
       "  <tbody>\n",
       "    <tr>\n",
       "      <th>48488</th>\n",
       "      <td>2018-02-09</td>\n",
       "      <td>AA</td>\n",
       "      <td>AA</td>\n",
       "      <td>103</td>\n",
       "      <td>AA</td>\n",
       "      <td>N866NN</td>\n",
       "      <td>103</td>\n",
       "      <td>11298</td>\n",
       "      <td>DFW</td>\n",
       "      <td>Dallas/Fort Worth, TX</td>\n",
       "      <td>...</td>\n",
       "      <td>17.563717</td>\n",
       "      <td>2018</td>\n",
       "      <td>2</td>\n",
       "      <td>9</td>\n",
       "      <td>4</td>\n",
       "      <td>11</td>\n",
       "      <td>morning</td>\n",
       "      <td>4</td>\n",
       "      <td>10.906822</td>\n",
       "      <td>5490.0</td>\n",
       "    </tr>\n",
       "    <tr>\n",
       "      <th>42072</th>\n",
       "      <td>2018-11-14</td>\n",
       "      <td>UA</td>\n",
       "      <td>UA_CODESHARE</td>\n",
       "      <td>6017</td>\n",
       "      <td>YV</td>\n",
       "      <td>N80348</td>\n",
       "      <td>6017</td>\n",
       "      <td>10140</td>\n",
       "      <td>ABQ</td>\n",
       "      <td>Albuquerque, NM</td>\n",
       "      <td>...</td>\n",
       "      <td>16.801774</td>\n",
       "      <td>2018</td>\n",
       "      <td>11</td>\n",
       "      <td>14</td>\n",
       "      <td>2</td>\n",
       "      <td>12</td>\n",
       "      <td>afternoon</td>\n",
       "      <td>1</td>\n",
       "      <td>13.083106</td>\n",
       "      <td>985.0</td>\n",
       "    </tr>\n",
       "    <tr>\n",
       "      <th>35120</th>\n",
       "      <td>2018-03-07</td>\n",
       "      <td>AA</td>\n",
       "      <td>AA_CODESHARE</td>\n",
       "      <td>5886</td>\n",
       "      <td>YV</td>\n",
       "      <td>N955LR</td>\n",
       "      <td>5886</td>\n",
       "      <td>13277</td>\n",
       "      <td>MGM</td>\n",
       "      <td>Montgomery, AL</td>\n",
       "      <td>...</td>\n",
       "      <td>15.859143</td>\n",
       "      <td>2018</td>\n",
       "      <td>3</td>\n",
       "      <td>7</td>\n",
       "      <td>2</td>\n",
       "      <td>5</td>\n",
       "      <td>night</td>\n",
       "      <td>1</td>\n",
       "      <td>10.906822</td>\n",
       "      <td>1859.0</td>\n",
       "    </tr>\n",
       "    <tr>\n",
       "      <th>4627</th>\n",
       "      <td>2019-09-04</td>\n",
       "      <td>DL</td>\n",
       "      <td>DL_CODESHARE</td>\n",
       "      <td>3820</td>\n",
       "      <td>OO</td>\n",
       "      <td>N268SY</td>\n",
       "      <td>3820</td>\n",
       "      <td>12953</td>\n",
       "      <td>LGA</td>\n",
       "      <td>New York, NY</td>\n",
       "      <td>...</td>\n",
       "      <td>17.547739</td>\n",
       "      <td>2019</td>\n",
       "      <td>9</td>\n",
       "      <td>4</td>\n",
       "      <td>2</td>\n",
       "      <td>21</td>\n",
       "      <td>evening</td>\n",
       "      <td>3</td>\n",
       "      <td>10.182210</td>\n",
       "      <td>1197.0</td>\n",
       "    </tr>\n",
       "    <tr>\n",
       "      <th>38836</th>\n",
       "      <td>2019-04-14</td>\n",
       "      <td>G4</td>\n",
       "      <td>G4</td>\n",
       "      <td>2109</td>\n",
       "      <td>G4</td>\n",
       "      <td>260NV</td>\n",
       "      <td>2109</td>\n",
       "      <td>14025</td>\n",
       "      <td>PBG</td>\n",
       "      <td>Plattsburgh, NY</td>\n",
       "      <td>...</td>\n",
       "      <td>17.539798</td>\n",
       "      <td>2019</td>\n",
       "      <td>4</td>\n",
       "      <td>14</td>\n",
       "      <td>6</td>\n",
       "      <td>10</td>\n",
       "      <td>morning</td>\n",
       "      <td>1</td>\n",
       "      <td>7.945799</td>\n",
       "      <td>1664.0</td>\n",
       "    </tr>\n",
       "  </tbody>\n",
       "</table>\n",
       "<p>5 rows × 46 columns</p>\n",
       "</div>"
      ],
      "text/plain": [
       "         fl_date mkt_unique_carrier branded_code_share  mkt_carrier_fl_num  \\\n",
       "48488 2018-02-09                 AA                 AA                 103   \n",
       "42072 2018-11-14                 UA       UA_CODESHARE                6017   \n",
       "35120 2018-03-07                 AA       AA_CODESHARE                5886   \n",
       "4627  2019-09-04                 DL       DL_CODESHARE                3820   \n",
       "38836 2019-04-14                 G4                 G4                2109   \n",
       "\n",
       "      op_unique_carrier tail_num  op_carrier_fl_num  origin_airport_id origin  \\\n",
       "48488                AA   N866NN                103              11298    DFW   \n",
       "42072                YV   N80348               6017              10140    ABQ   \n",
       "35120                YV   N955LR               5886              13277    MGM   \n",
       "4627                 OO   N268SY               3820              12953    LGA   \n",
       "38836                G4    260NV               2109              14025    PBG   \n",
       "\n",
       "            origin_city_name  ...  taxi_mean_time  year month  day_of_month  \\\n",
       "48488  Dallas/Fort Worth, TX  ...       17.563717  2018     2             9   \n",
       "42072        Albuquerque, NM  ...       16.801774  2018    11            14   \n",
       "35120         Montgomery, AL  ...       15.859143  2018     3             7   \n",
       "4627            New York, NY  ...       17.547739  2019     9             4   \n",
       "38836        Plattsburgh, NY  ...       17.539798  2019     4            14   \n",
       "\n",
       "      day_of_week  dep_hour  time_of_day  dep_traffic_per_day  \\\n",
       "48488           4        11      morning                    4   \n",
       "42072           2        12    afternoon                    1   \n",
       "35120           2         5        night                    1   \n",
       "4627            2        21      evening                    3   \n",
       "38836           6        10      morning                    1   \n",
       "\n",
       "       avg_delay_per_airline  monthly_avg_passengers  \n",
       "48488              10.906822                  5490.0  \n",
       "42072              13.083106                   985.0  \n",
       "35120              10.906822                  1859.0  \n",
       "4627               10.182210                  1197.0  \n",
       "38836               7.945799                  1664.0  \n",
       "\n",
       "[5 rows x 46 columns]"
      ]
     },
     "execution_count": 25,
     "metadata": {},
     "output_type": "execute_result"
    }
   ],
   "source": [
    "X_test.head(5)"
   ]
  },
  {
   "cell_type": "code",
   "execution_count": 26,
   "metadata": {},
   "outputs": [],
   "source": [
    "# Calculate the overall mean of the 'taxi_out' column\n",
    "overall_mean_monthly_avg_passengers_out_x_train = X_train['monthly_avg_passengers'].mean()\n",
    "overall_monthly_avg_passengers_out_x_test = X_test['monthly_avg_passengers'].mean()\n",
    "# Calculate mean taxi time per hour using map function\n",
    "\n",
    "X_train['monthly_avg_passengers'].replace(np.nan,overall_mean_monthly_avg_passengers_out_x_train, inplace=True)\n",
    "X_test['monthly_avg_passengers'].replace(np.nan,overall_monthly_avg_passengers_out_x_test, inplace=True)"
   ]
  },
  {
   "cell_type": "code",
   "execution_count": null,
   "metadata": {},
   "outputs": [],
   "source": []
  },
  {
   "cell_type": "markdown",
   "metadata": {},
   "source": [
    "### Creating feature - average fuel consumption"
   ]
  },
  {
   "cell_type": "code",
   "execution_count": 27,
   "metadata": {},
   "outputs": [],
   "source": [
    "# loading passengers csv into dataframe\n",
    "fuel_df = pd.read_csv('data/fuel_comsumption.csv')"
   ]
  },
  {
   "cell_type": "code",
   "execution_count": 28,
   "metadata": {},
   "outputs": [],
   "source": [
    "# Calling function from data_cleaning \n",
    "\n",
    "from data_cleaning import avg_fuel_use"
   ]
  },
  {
   "cell_type": "code",
   "execution_count": 29,
   "metadata": {},
   "outputs": [],
   "source": [
    "# Calling function with flights and passengers dataframe\n",
    "\n",
    "X_train = avg_fuel_use(X_train,fuel_df)\n",
    "X_test = avg_fuel_use(X_test,fuel_df)"
   ]
  },
  {
   "cell_type": "code",
   "execution_count": 30,
   "metadata": {},
   "outputs": [
    {
     "data": {
      "text/html": [
       "<div>\n",
       "<style scoped>\n",
       "    .dataframe tbody tr th:only-of-type {\n",
       "        vertical-align: middle;\n",
       "    }\n",
       "\n",
       "    .dataframe tbody tr th {\n",
       "        vertical-align: top;\n",
       "    }\n",
       "\n",
       "    .dataframe thead th {\n",
       "        text-align: right;\n",
       "    }\n",
       "</style>\n",
       "<table border=\"1\" class=\"dataframe\">\n",
       "  <thead>\n",
       "    <tr style=\"text-align: right;\">\n",
       "      <th></th>\n",
       "      <th>fl_date</th>\n",
       "      <th>mkt_unique_carrier</th>\n",
       "      <th>branded_code_share</th>\n",
       "      <th>mkt_carrier_fl_num</th>\n",
       "      <th>op_unique_carrier</th>\n",
       "      <th>tail_num</th>\n",
       "      <th>op_carrier_fl_num</th>\n",
       "      <th>origin_airport_id</th>\n",
       "      <th>origin</th>\n",
       "      <th>origin_city_name</th>\n",
       "      <th>...</th>\n",
       "      <th>month</th>\n",
       "      <th>day_of_month</th>\n",
       "      <th>day_of_week</th>\n",
       "      <th>dep_hour</th>\n",
       "      <th>time_of_day</th>\n",
       "      <th>dep_traffic_per_day</th>\n",
       "      <th>avg_delay_per_airline</th>\n",
       "      <th>monthly_avg_passengers</th>\n",
       "      <th>avg_monthly_fuel_gallons</th>\n",
       "      <th>avg_monthly_fuel_cost</th>\n",
       "    </tr>\n",
       "  </thead>\n",
       "  <tbody>\n",
       "    <tr>\n",
       "      <th>48488</th>\n",
       "      <td>2018-02-09</td>\n",
       "      <td>AA</td>\n",
       "      <td>AA</td>\n",
       "      <td>103</td>\n",
       "      <td>AA</td>\n",
       "      <td>N866NN</td>\n",
       "      <td>103</td>\n",
       "      <td>11298</td>\n",
       "      <td>DFW</td>\n",
       "      <td>Dallas/Fort Worth, TX</td>\n",
       "      <td>...</td>\n",
       "      <td>2</td>\n",
       "      <td>9</td>\n",
       "      <td>4</td>\n",
       "      <td>11</td>\n",
       "      <td>morning</td>\n",
       "      <td>4</td>\n",
       "      <td>10.906822</td>\n",
       "      <td>5490.0</td>\n",
       "      <td>244408174.0</td>\n",
       "      <td>405192822.0</td>\n",
       "    </tr>\n",
       "    <tr>\n",
       "      <th>42072</th>\n",
       "      <td>2018-11-14</td>\n",
       "      <td>UA</td>\n",
       "      <td>UA_CODESHARE</td>\n",
       "      <td>6017</td>\n",
       "      <td>YV</td>\n",
       "      <td>N80348</td>\n",
       "      <td>6017</td>\n",
       "      <td>10140</td>\n",
       "      <td>ABQ</td>\n",
       "      <td>Albuquerque, NM</td>\n",
       "      <td>...</td>\n",
       "      <td>11</td>\n",
       "      <td>14</td>\n",
       "      <td>2</td>\n",
       "      <td>12</td>\n",
       "      <td>afternoon</td>\n",
       "      <td>1</td>\n",
       "      <td>13.083106</td>\n",
       "      <td>985.0</td>\n",
       "      <td>258837871.0</td>\n",
       "      <td>452040276.0</td>\n",
       "    </tr>\n",
       "    <tr>\n",
       "      <th>35120</th>\n",
       "      <td>2018-03-07</td>\n",
       "      <td>AA</td>\n",
       "      <td>AA_CODESHARE</td>\n",
       "      <td>5886</td>\n",
       "      <td>YV</td>\n",
       "      <td>N955LR</td>\n",
       "      <td>5886</td>\n",
       "      <td>13277</td>\n",
       "      <td>MGM</td>\n",
       "      <td>Montgomery, AL</td>\n",
       "      <td>...</td>\n",
       "      <td>3</td>\n",
       "      <td>7</td>\n",
       "      <td>2</td>\n",
       "      <td>5</td>\n",
       "      <td>night</td>\n",
       "      <td>1</td>\n",
       "      <td>10.906822</td>\n",
       "      <td>1859.0</td>\n",
       "      <td>282305086.0</td>\n",
       "      <td>472114756.0</td>\n",
       "    </tr>\n",
       "    <tr>\n",
       "      <th>4627</th>\n",
       "      <td>2019-09-04</td>\n",
       "      <td>DL</td>\n",
       "      <td>DL_CODESHARE</td>\n",
       "      <td>3820</td>\n",
       "      <td>OO</td>\n",
       "      <td>N268SY</td>\n",
       "      <td>3820</td>\n",
       "      <td>12953</td>\n",
       "      <td>LGA</td>\n",
       "      <td>New York, NY</td>\n",
       "      <td>...</td>\n",
       "      <td>9</td>\n",
       "      <td>4</td>\n",
       "      <td>2</td>\n",
       "      <td>21</td>\n",
       "      <td>evening</td>\n",
       "      <td>3</td>\n",
       "      <td>10.182210</td>\n",
       "      <td>1197.0</td>\n",
       "      <td>289410337.0</td>\n",
       "      <td>527534728.0</td>\n",
       "    </tr>\n",
       "    <tr>\n",
       "      <th>38836</th>\n",
       "      <td>2019-04-14</td>\n",
       "      <td>G4</td>\n",
       "      <td>G4</td>\n",
       "      <td>2109</td>\n",
       "      <td>G4</td>\n",
       "      <td>260NV</td>\n",
       "      <td>2109</td>\n",
       "      <td>14025</td>\n",
       "      <td>PBG</td>\n",
       "      <td>Plattsburgh, NY</td>\n",
       "      <td>...</td>\n",
       "      <td>4</td>\n",
       "      <td>14</td>\n",
       "      <td>6</td>\n",
       "      <td>10</td>\n",
       "      <td>morning</td>\n",
       "      <td>1</td>\n",
       "      <td>7.945799</td>\n",
       "      <td>1664.0</td>\n",
       "      <td>15126139.0</td>\n",
       "      <td>29573621.0</td>\n",
       "    </tr>\n",
       "  </tbody>\n",
       "</table>\n",
       "<p>5 rows × 48 columns</p>\n",
       "</div>"
      ],
      "text/plain": [
       "         fl_date mkt_unique_carrier branded_code_share  mkt_carrier_fl_num  \\\n",
       "48488 2018-02-09                 AA                 AA                 103   \n",
       "42072 2018-11-14                 UA       UA_CODESHARE                6017   \n",
       "35120 2018-03-07                 AA       AA_CODESHARE                5886   \n",
       "4627  2019-09-04                 DL       DL_CODESHARE                3820   \n",
       "38836 2019-04-14                 G4                 G4                2109   \n",
       "\n",
       "      op_unique_carrier tail_num  op_carrier_fl_num  origin_airport_id origin  \\\n",
       "48488                AA   N866NN                103              11298    DFW   \n",
       "42072                YV   N80348               6017              10140    ABQ   \n",
       "35120                YV   N955LR               5886              13277    MGM   \n",
       "4627                 OO   N268SY               3820              12953    LGA   \n",
       "38836                G4    260NV               2109              14025    PBG   \n",
       "\n",
       "            origin_city_name  ...  month day_of_month day_of_week  dep_hour  \\\n",
       "48488  Dallas/Fort Worth, TX  ...      2            9           4        11   \n",
       "42072        Albuquerque, NM  ...     11           14           2        12   \n",
       "35120         Montgomery, AL  ...      3            7           2         5   \n",
       "4627            New York, NY  ...      9            4           2        21   \n",
       "38836        Plattsburgh, NY  ...      4           14           6        10   \n",
       "\n",
       "      time_of_day  dep_traffic_per_day  avg_delay_per_airline  \\\n",
       "48488     morning                    4              10.906822   \n",
       "42072   afternoon                    1              13.083106   \n",
       "35120       night                    1              10.906822   \n",
       "4627      evening                    3              10.182210   \n",
       "38836     morning                    1               7.945799   \n",
       "\n",
       "       monthly_avg_passengers  avg_monthly_fuel_gallons  avg_monthly_fuel_cost  \n",
       "48488                  5490.0               244408174.0            405192822.0  \n",
       "42072                   985.0               258837871.0            452040276.0  \n",
       "35120                  1859.0               282305086.0            472114756.0  \n",
       "4627                   1197.0               289410337.0            527534728.0  \n",
       "38836                  1664.0                15126139.0             29573621.0  \n",
       "\n",
       "[5 rows x 48 columns]"
      ]
     },
     "execution_count": 30,
     "metadata": {},
     "output_type": "execute_result"
    }
   ],
   "source": [
    "X_test.head()"
   ]
  },
  {
   "cell_type": "code",
   "execution_count": 46,
   "metadata": {},
   "outputs": [
    {
     "data": {
      "text/plain": [
       "Index(['mkt_unique_carrier', 'origin', 'dest', 'crs_dep_time', 'dep_time',\n",
       "       'crs_arr_time', 'crs_elapsed_time', 'distance', 'taxi_mean_time',\n",
       "       'year', 'month', 'day_of_month', 'day_of_week', 'dep_hour',\n",
       "       'time_of_day', 'dep_traffic_per_day', 'avg_delay_per_airline',\n",
       "       'monthly_avg_passengers', 'avg_monthly_fuel_gallons'],\n",
       "      dtype='object')"
      ]
     },
     "execution_count": 46,
     "metadata": {},
     "output_type": "execute_result"
    }
   ],
   "source": [
    "X_train.columns"
   ]
  },
  {
   "cell_type": "code",
   "execution_count": 32,
   "metadata": {},
   "outputs": [],
   "source": [
    "# Define the list of unnecessary features to drop\n",
    "unnecessary_features = ['op_unique_carrier','fl_date','dep_delay','branded_code_share', 'tail_num','op_carrier_fl_num','cancelled','carrier_delay','weather_delay','nas_delay','security_delay','late_aircraft_delay','total_add_gtime', 'longest_add_gtime','origin_city_name',\n",
    "                        'dest_city_name','origin_airport_id','dest_airport_id','wheels_off','wheels_on', 'taxi_in', 'arr_time', 'actual_elapsed_time','flights','mkt_carrier_fl_num','air_time','first_dep_time','avg_monthly_fuel_cost','taxi_out']\n"
   ]
  },
  {
   "cell_type": "code",
   "execution_count": 33,
   "metadata": {},
   "outputs": [],
   "source": [
    "# Drop the unnecessary features from \n",
    "X_train.drop(columns=unnecessary_features, inplace=True)\n",
    "X_test.drop(columns=unnecessary_features, inplace=True)"
   ]
  },
  {
   "cell_type": "code",
   "execution_count": 34,
   "metadata": {},
   "outputs": [
    {
     "data": {
      "text/plain": [
       "Index(['mkt_unique_carrier', 'origin', 'dest', 'crs_dep_time', 'dep_time',\n",
       "       'crs_arr_time', 'crs_elapsed_time', 'distance', 'taxi_mean_time',\n",
       "       'year', 'month', 'day_of_month', 'day_of_week', 'dep_hour',\n",
       "       'time_of_day', 'dep_traffic_per_day', 'avg_delay_per_airline',\n",
       "       'monthly_avg_passengers', 'avg_monthly_fuel_gallons'],\n",
       "      dtype='object')"
      ]
     },
     "execution_count": 34,
     "metadata": {},
     "output_type": "execute_result"
    }
   ],
   "source": [
    "X_train.columns"
   ]
  },
  {
   "cell_type": "code",
   "execution_count": 35,
   "metadata": {},
   "outputs": [
    {
     "data": {
      "text/plain": [
       "mkt_unique_carrier           object\n",
       "origin                       object\n",
       "dest                         object\n",
       "crs_dep_time                  int64\n",
       "dep_time                     object\n",
       "crs_arr_time                  int64\n",
       "crs_elapsed_time            float64\n",
       "distance                      int64\n",
       "taxi_mean_time              float64\n",
       "year                          int64\n",
       "month                         int64\n",
       "day_of_month                  int64\n",
       "day_of_week                   int64\n",
       "dep_hour                      int64\n",
       "time_of_day                  object\n",
       "dep_traffic_per_day           int64\n",
       "avg_delay_per_airline       float64\n",
       "monthly_avg_passengers      float64\n",
       "avg_monthly_fuel_gallons    float64\n",
       "dtype: object"
      ]
     },
     "execution_count": 35,
     "metadata": {},
     "output_type": "execute_result"
    }
   ],
   "source": [
    "X_train.dtypes"
   ]
  },
  {
   "cell_type": "markdown",
   "metadata": {},
   "source": [
    "## Combing dataframe and saving after feature engineering"
   ]
  },
  {
   "cell_type": "code",
   "execution_count": 36,
   "metadata": {},
   "outputs": [
    {
     "data": {
      "text/plain": [
       "\"\\nX_train['arr_delay'] = y_train\\nX_test['arr_delay'] = y_test\\ndf_flights_model = pd.concat([X_train, X_test])\\ndf_flights_model.to_csv('data\\\\df_flights_model.csv',index=False)\\n\""
      ]
     },
     "execution_count": 36,
     "metadata": {},
     "output_type": "execute_result"
    }
   ],
   "source": [
    "'''\n",
    "X_train['arr_delay'] = y_train\n",
    "X_test['arr_delay'] = y_test\n",
    "df_flights_model = pd.concat([X_train, X_test])\n",
    "df_flights_model.to_csv('data\\df_flights_model.csv',index=False)\n",
    "'''"
   ]
  },
  {
   "cell_type": "markdown",
   "metadata": {},
   "source": [
    "# Loading df_flights for modeling"
   ]
  },
  {
   "cell_type": "code",
   "execution_count": 37,
   "metadata": {},
   "outputs": [
    {
     "data": {
      "text/plain": [
       "\"\\nimport numpy as np\\nimport pandas as pd\\nimport seaborn as sns\\nimport scipy.stats as stats\\nimport matplotlib.pyplot as plt\\nfrom sklearn.preprocessing import MinMaxScaler\\nfrom sklearn.model_selection import train_test_split\\n\\ndf_flights = pd.read_csv('data/df_flights_model.csv')\\n\\n\""
      ]
     },
     "execution_count": 37,
     "metadata": {},
     "output_type": "execute_result"
    }
   ],
   "source": [
    "'''\n",
    "import numpy as np\n",
    "import pandas as pd\n",
    "import seaborn as sns\n",
    "import scipy.stats as stats\n",
    "import matplotlib.pyplot as plt\n",
    "from sklearn.preprocessing import MinMaxScaler\n",
    "from sklearn.model_selection import train_test_split\n",
    "\n",
    "df_flights = pd.read_csv('data/df_flights_model.csv')\n",
    "\n",
    "'''"
   ]
  },
  {
   "cell_type": "code",
   "execution_count": 38,
   "metadata": {},
   "outputs": [
    {
     "data": {
      "text/plain": [
       "\"\\nfrom sklearn.model_selection import train_test_split\\n\\n# Separate the predicted variable (arr_delay)\\ny = df_flights['arr_delay']\\n\\n# Remove the predicted variable from the dataframe\\nX = df_flights.drop('arr_delay', axis=1)\\n\\nX_train, X_test, y_train, y_test = train_test_split(X, y, test_size = 0.30, random_state = 42)\\n\""
      ]
     },
     "execution_count": 38,
     "metadata": {},
     "output_type": "execute_result"
    }
   ],
   "source": [
    "'''\n",
    "from sklearn.model_selection import train_test_split\n",
    "\n",
    "# Separate the predicted variable (arr_delay)\n",
    "y = df_flights['arr_delay']\n",
    "\n",
    "# Remove the predicted variable from the dataframe\n",
    "X = df_flights.drop('arr_delay', axis=1)\n",
    "\n",
    "X_train, X_test, y_train, y_test = train_test_split(X, y, test_size = 0.30, random_state = 42)\n",
    "'''"
   ]
  },
  {
   "cell_type": "markdown",
   "metadata": {},
   "source": [
    "### Encoding and scaling"
   ]
  },
  {
   "cell_type": "code",
   "execution_count": 39,
   "metadata": {},
   "outputs": [],
   "source": [
    "\n",
    "from sklearn.preprocessing import OneHotEncoder, StandardScaler\n",
    "from sklearn.compose import ColumnTransformer\n",
    "\n",
    "\n",
    "# Define the categorical and numerical column names\n",
    "\n",
    "categorical_cols = ['mkt_unique_carrier', 'origin', 'dest', 'time_of_day']\n",
    "numerical_cols = ['crs_dep_time', 'dep_time', 'crs_arr_time', 'crs_elapsed_time', 'distance',\n",
    "                 'taxi_mean_time', 'year', 'month', 'day_of_month', 'day_of_week', 'dep_hour',\n",
    "                  'dep_traffic_per_day','avg_delay_per_airline',\n",
    "                  'monthly_avg_passengers', 'avg_monthly_fuel_gallons']\n",
    "\n",
    "# Create the column transformer for encoding and scaling\n",
    "preprocessor = ColumnTransformer(\n",
    "    transformers=[\n",
    "        ('cat', OneHotEncoder(handle_unknown='ignore'), categorical_cols),\n",
    "        ('num', StandardScaler(), numerical_cols)\n",
    "    ])\n",
    "\n",
    "# Fit and transform the preprocessor on the training data\n",
    "X_train_preprocessed = preprocessor.fit_transform(X_train)\n",
    "\n",
    "# Transform the test data using the fitted preprocessor\n",
    "X_test_preprocessed = preprocessor.transform(X_test)\n"
   ]
  },
  {
   "cell_type": "code",
   "execution_count": 40,
   "metadata": {},
   "outputs": [],
   "source": [
    "#X_train_preprocessed"
   ]
  },
  {
   "cell_type": "code",
   "execution_count": 41,
   "metadata": {},
   "outputs": [],
   "source": [
    "#print(X_train_preprocessed.shape)\n",
    "#print(X_test_preprocessed.shape)"
   ]
  },
  {
   "cell_type": "markdown",
   "metadata": {},
   "source": [
    "## Alternate Encoding and Scaling"
   ]
  },
  {
   "cell_type": "code",
   "execution_count": 42,
   "metadata": {
    "tags": []
   },
   "outputs": [
    {
     "data": {
      "text/plain": [
       "\"\\ncategorical_vars = X_train.select_dtypes(include=['object','category'])\\nnumeric_vars = X_train.select_dtypes(include=['int64', 'float64'])\\n\\nX_train_cat = X_train[categorical_vars.columns]\\nX_train_num = X_train[numeric_vars.columns]\\n\\n\\nX_test_cat = X_train[categorical_vars.columns]\\nX_test_num = X_train[numeric_vars.columns]\\n\""
      ]
     },
     "execution_count": 42,
     "metadata": {},
     "output_type": "execute_result"
    }
   ],
   "source": [
    "'''\n",
    "categorical_vars = X_train.select_dtypes(include=['object','category'])\n",
    "numeric_vars = X_train.select_dtypes(include=['int64', 'float64'])\n",
    "\n",
    "X_train_cat = X_train[categorical_vars.columns]\n",
    "X_train_num = X_train[numeric_vars.columns]\n",
    "\n",
    "\n",
    "X_test_cat = X_train[categorical_vars.columns]\n",
    "X_test_num = X_train[numeric_vars.columns]\n",
    "'''"
   ]
  },
  {
   "cell_type": "code",
   "execution_count": 43,
   "metadata": {},
   "outputs": [
    {
     "data": {
      "text/plain": [
       "'\\nfrom sklearn.preprocessing import OneHotEncoder, StandardScaler\\n# Categorical variable preprocessing\\nencoder = OneHotEncoder()\\nencoded_categorical = encoder.fit_transform(X_train_cat)\\nX_test_cat_encoded = encoder.transform(X_test_cat)\\n'"
      ]
     },
     "execution_count": 43,
     "metadata": {},
     "output_type": "execute_result"
    }
   ],
   "source": [
    "'''\n",
    "from sklearn.preprocessing import OneHotEncoder, StandardScaler\n",
    "# Categorical variable preprocessing\n",
    "encoder = OneHotEncoder()\n",
    "encoded_categorical = encoder.fit_transform(X_train_cat)\n",
    "X_test_cat_encoded = encoder.transform(X_test_cat)\n",
    "'''"
   ]
  },
  {
   "cell_type": "code",
   "execution_count": 44,
   "metadata": {},
   "outputs": [
    {
     "data": {
      "text/plain": [
       "'\\nscaler = StandardScaler()\\nX_train_numeric_scaled = scaler.fit_transform(X_train_num)\\nX_test_num_scaled = scaler.transform(X_test_num)\\n'"
      ]
     },
     "execution_count": 44,
     "metadata": {},
     "output_type": "execute_result"
    }
   ],
   "source": [
    "'''\n",
    "scaler = StandardScaler()\n",
    "X_train_numeric_scaled = scaler.fit_transform(X_train_num)\n",
    "X_test_num_scaled = scaler.transform(X_test_num)\n",
    "'''"
   ]
  },
  {
   "cell_type": "code",
   "execution_count": 45,
   "metadata": {},
   "outputs": [],
   "source": [
    "#X_train_preprocessed = pd.concat([pd.DataFrame(encoded_categorical.toarray()), pd.DataFrame(X_train_numeric_scaled)], axis=1)"
   ]
  },
  {
   "cell_type": "code",
   "execution_count": 46,
   "metadata": {},
   "outputs": [],
   "source": [
    "#X_test_preprocessed = pd.concat([pd.DataFrame(X_test_cat_encoded.toarray()), pd.DataFrame(X_test_num_scaled)], axis=1)\n"
   ]
  },
  {
   "cell_type": "markdown",
   "metadata": {},
   "source": [
    "### Feature Engineering"
   ]
  },
  {
   "cell_type": "markdown",
   "metadata": {},
   "source": [
    "Feature engineering will play a crucial role in this problems. We have only very little attributes so we need to create some features that will have some predictive power.\n",
    "\n",
    "- weather: we can use some weather API to look for the weather in time of the scheduled departure and scheduled arrival.\n",
    "- statistics (avg, mean, median, std, min, max...): we can take a look at previous delays and compute descriptive statistics\n",
    "- airports encoding: we need to think about what to do with the airports and other categorical variables\n",
    "- time of the day: the delay probably depends on the airport traffic which varies during the day.\n",
    "- airport traffic\n",
    "- unsupervised learning as feature engineering?\n",
    "- **what are the additional options?**: Think about what we could do more to improve the model."
   ]
  },
  {
   "cell_type": "markdown",
   "metadata": {},
   "source": [
    "### Modeling"
   ]
  },
  {
   "cell_type": "markdown",
   "metadata": {},
   "source": [
    "Use different ML techniques to predict each problem.\n",
    "\n",
    "- linear / logistic / multinomial logistic regression\n",
    "- Naive Bayes\n",
    "- Random Forest\n",
    "- SVM\n",
    "- XGBoost\n",
    "- The ensemble of your own choice"
   ]
  },
  {
   "cell_type": "markdown",
   "metadata": {},
   "source": [
    "## Linear Regression"
   ]
  },
  {
   "cell_type": "code",
   "execution_count": 47,
   "metadata": {},
   "outputs": [],
   "source": [
    "from sklearn.linear_model import LinearRegression\n",
    "from sklearn.metrics import mean_squared_error, r2_score\n",
    "\n",
    "lg_model = LinearRegression()"
   ]
  },
  {
   "cell_type": "code",
   "execution_count": 48,
   "metadata": {},
   "outputs": [
    {
     "data": {
      "text/plain": [
       "LinearRegression()"
      ]
     },
     "execution_count": 48,
     "metadata": {},
     "output_type": "execute_result"
    }
   ],
   "source": [
    "lg_model.fit(X_train_preprocessed, y_train)\n"
   ]
  },
  {
   "cell_type": "code",
   "execution_count": 49,
   "metadata": {},
   "outputs": [],
   "source": [
    "y_pred_lr = lg_model.predict(X_test_preprocessed)\n"
   ]
  },
  {
   "cell_type": "code",
   "execution_count": 51,
   "metadata": {},
   "outputs": [],
   "source": [
    "mse_lr = mean_squared_error(y_test, y_pred_lr)\n",
    "rmse_lr = np.sqrt(mse_lr)\n",
    "r2_lr = r2_score(y_test, y_pred_lr)"
   ]
  },
  {
   "cell_type": "code",
   "execution_count": 52,
   "metadata": {},
   "outputs": [
    {
     "name": "stdout",
     "output_type": "stream",
     "text": [
      "Mean Squared Error: 2575.9709864808015\n",
      "Root Mean Squared Error: 50.754024337788245\n",
      "R-squared: 0.06487125743035527\n"
     ]
    }
   ],
   "source": [
    "print(\"Mean Squared Error:\", mse_lr)\n",
    "print(\"Root Mean Squared Error:\", rmse_lr)\n",
    "print(\"R-squared:\", r2_lr)"
   ]
  },
  {
   "cell_type": "code",
   "execution_count": null,
   "metadata": {},
   "outputs": [],
   "source": [
    "import pickle\n",
    "\n",
    "# Save the trained model to a file\n",
    "with open('model/linear_regression.pkl', 'wb') as file:\n",
    "    pickle.dump(lg_model, file)"
   ]
  },
  {
   "cell_type": "code",
   "execution_count": null,
   "metadata": {},
   "outputs": [],
   "source": [
    "# Load the saved model from a file\n",
    "with open('linear_regression.pkl', 'rb') as file:\n",
    "    loaded_model = pickle.load(file)"
   ]
  },
  {
   "cell_type": "markdown",
   "metadata": {},
   "source": [
    "## Random Forrest"
   ]
  },
  {
   "cell_type": "code",
   "execution_count": 40,
   "metadata": {},
   "outputs": [],
   "source": [
    "from sklearn.ensemble import RandomForestRegressor\n"
   ]
  },
  {
   "cell_type": "code",
   "execution_count": 41,
   "metadata": {},
   "outputs": [],
   "source": [
    "rf_model = RandomForestRegressor(n_estimators=100,n_jobs=-1, random_state=42)\n"
   ]
  },
  {
   "cell_type": "code",
   "execution_count": 42,
   "metadata": {},
   "outputs": [
    {
     "data": {
      "text/plain": [
       "RandomForestRegressor(n_jobs=-1, random_state=42)"
      ]
     },
     "execution_count": 42,
     "metadata": {},
     "output_type": "execute_result"
    }
   ],
   "source": [
    "rf_model.fit(X_train_preprocessed, y_train)\n"
   ]
  },
  {
   "cell_type": "code",
   "execution_count": 43,
   "metadata": {},
   "outputs": [],
   "source": [
    "# Make predictions on the test set\n",
    "y_pred_rf = rf_model.predict(X_test_preprocessed)\n",
    "\n"
   ]
  },
  {
   "cell_type": "code",
   "execution_count": 44,
   "metadata": {},
   "outputs": [
    {
     "name": "stdout",
     "output_type": "stream",
     "text": [
      "Mean Squared Error: 671.9634119066667\n",
      "Root Mean Squared Error: 25.922257075854077\n",
      "R-squared: 0.7560639061049561\n"
     ]
    }
   ],
   "source": [
    "from sklearn.metrics import mean_squared_error, r2_score\n",
    "# Evaluate the model\n",
    "mse_rf = mean_squared_error(y_test, y_pred_rf)\n",
    "rmse_rf = np.sqrt(mse_rf)\n",
    "r2_rf = r2_score(y_test, y_pred_rf)\n",
    "\n",
    "print(\"Mean Squared Error:\", mse_rf)\n",
    "print(\"Root Mean Squared Error:\", rmse_rf)\n",
    "print(\"R-squared:\", r2_rf)\n"
   ]
  },
  {
   "cell_type": "markdown",
   "metadata": {},
   "source": [
    "# Xgboost"
   ]
  },
  {
   "cell_type": "code",
   "execution_count": 58,
   "metadata": {},
   "outputs": [],
   "source": [
    "import xgboost as xgb\n",
    "from sklearn.metrics import mean_squared_error\n",
    "\n"
   ]
  },
  {
   "cell_type": "code",
   "execution_count": 59,
   "metadata": {},
   "outputs": [],
   "source": [
    "# Create an instance of the XGBRegressor\n",
    "# Set the parameters according to your requirements\n",
    "model = xgb.XGBRegressor(\n",
    "    n_estimators=100,\n",
    "    learning_rate=0.1,\n",
    "    max_depth=3,\n",
    "    random_state=42\n",
    ")\n",
    "\n"
   ]
  },
  {
   "cell_type": "code",
   "execution_count": 60,
   "metadata": {},
   "outputs": [
    {
     "data": {
      "text/plain": [
       "XGBRegressor(base_score=None, booster=None, callbacks=None,\n",
       "             colsample_bylevel=None, colsample_bynode=None,\n",
       "             colsample_bytree=None, early_stopping_rounds=None,\n",
       "             enable_categorical=False, eval_metric=None, feature_types=None,\n",
       "             gamma=None, gpu_id=None, grow_policy=None, importance_type=None,\n",
       "             interaction_constraints=None, learning_rate=0.1, max_bin=None,\n",
       "             max_cat_threshold=None, max_cat_to_onehot=None,\n",
       "             max_delta_step=None, max_depth=3, max_leaves=None,\n",
       "             min_child_weight=None, missing=nan, monotone_constraints=None,\n",
       "             n_estimators=100, n_jobs=None, num_parallel_tree=None,\n",
       "             predictor=None, random_state=42, ...)"
      ]
     },
     "execution_count": 60,
     "metadata": {},
     "output_type": "execute_result"
    }
   ],
   "source": [
    "# Fit the model to the training data\n",
    "model.fit(X_train_preprocessed, y_train)\n",
    "\n"
   ]
  },
  {
   "cell_type": "code",
   "execution_count": 61,
   "metadata": {},
   "outputs": [],
   "source": [
    "# Make predictions on the test data\n",
    "y_pred_xgboost = model.predict(X_test_preprocessed)\n",
    "\n"
   ]
  },
  {
   "cell_type": "code",
   "execution_count": 62,
   "metadata": {},
   "outputs": [
    {
     "name": "stdout",
     "output_type": "stream",
     "text": [
      "Root Mean Squared Error: 72.21337204593222\n"
     ]
    }
   ],
   "source": [
    "# Evaluate the model\n",
    "mse_xgboost = mean_squared_error(y_test, y_pred_xgboost)\n",
    "rmse_xgboost = np.sqrt(mse_xgboost)\n",
    "print(\"Root Mean Squared Error:\", rmse_xgboost)"
   ]
  },
  {
   "cell_type": "code",
   "execution_count": null,
   "metadata": {},
   "outputs": [],
   "source": []
  },
  {
   "cell_type": "markdown",
   "metadata": {},
   "source": [
    "## SVM"
   ]
  },
  {
   "cell_type": "code",
   "execution_count": 40,
   "metadata": {},
   "outputs": [],
   "source": [
    "from sklearn.svm import SVR\n",
    "from sklearn.metrics import mean_squared_error, r2_score\n",
    "\n"
   ]
  },
  {
   "cell_type": "code",
   "execution_count": 41,
   "metadata": {},
   "outputs": [],
   "source": [
    "# Create an SVR model\n",
    "svr_model = SVR(kernel='rbf')"
   ]
  },
  {
   "cell_type": "code",
   "execution_count": 42,
   "metadata": {},
   "outputs": [
    {
     "data": {
      "text/plain": [
       "SVR()"
      ]
     },
     "execution_count": 42,
     "metadata": {},
     "output_type": "execute_result"
    }
   ],
   "source": [
    "# Train the model\n",
    "svr_model.fit(X_train_preprocessed, y_train)"
   ]
  },
  {
   "cell_type": "code",
   "execution_count": 43,
   "metadata": {},
   "outputs": [],
   "source": [
    "# Make predictions on the test set\n",
    "y_pred_svm = svr_model.predict(X_test_preprocessed)"
   ]
  },
  {
   "cell_type": "code",
   "execution_count": 44,
   "metadata": {},
   "outputs": [
    {
     "name": "stdout",
     "output_type": "stream",
     "text": [
      "Mean Squared Error: 2411.3214667213892\n",
      "Root Mean Squared Error: 49.10520814253198\n",
      "R-squared Score: 0.12464231043730745\n"
     ]
    }
   ],
   "source": [
    "# Evaluation\n",
    "mse_svm = mean_squared_error(y_test, y_pred_svm)\n",
    "rmse_svm = np.sqrt(mse_svm)\n",
    "r2_svm = r2_score(y_test, y_pred_svm)\n",
    "\n",
    "print(\"Mean Squared Error:\", mse_svm)\n",
    "print(\"Root Mean Squared Error:\", rmse_svm)\n",
    "print(\"R-squared Score:\", r2_svm)"
   ]
  },
  {
   "cell_type": "code",
   "execution_count": 45,
   "metadata": {},
   "outputs": [],
   "source": [
    "import pickle\n",
    "\n",
    "# Save the trained model to a file\n",
    "with open('model/svr_model.pkl', 'wb') as file:\n",
    "    pickle.dump(svr_model, file)"
   ]
  },
  {
   "cell_type": "code",
   "execution_count": 47,
   "metadata": {},
   "outputs": [
    {
     "data": {
      "text/plain": [
       "array([ -5.33893875,  -6.01460876,  -9.14823047, ..., -10.1449285 ,\n",
       "        27.27378039,  -7.72048235])"
      ]
     },
     "execution_count": 47,
     "metadata": {},
     "output_type": "execute_result"
    }
   ],
   "source": [
    "y_pred_svm"
   ]
  },
  {
   "cell_type": "code",
   "execution_count": 48,
   "metadata": {},
   "outputs": [
    {
     "ename": "NameError",
     "evalue": "name 'test_data' is not defined",
     "output_type": "error",
     "traceback": [
      "\u001b[1;31m---------------------------------------------------------------------------\u001b[0m",
      "\u001b[1;31mNameError\u001b[0m                                 Traceback (most recent call last)",
      "\u001b[1;32m~\\AppData\\Local\\Temp\\ipykernel_24376\\2357134979.py\u001b[0m in \u001b[0;36m<module>\u001b[1;34m\u001b[0m\n\u001b[1;32m----> 1\u001b[1;33m \u001b[0mresults\u001b[0m \u001b[1;33m=\u001b[0m \u001b[0mpd\u001b[0m\u001b[1;33m.\u001b[0m\u001b[0mDataFrame\u001b[0m\u001b[1;33m(\u001b[0m\u001b[1;33m{\u001b[0m\u001b[1;34m'fl_date'\u001b[0m\u001b[1;33m:\u001b[0m \u001b[0mtest_data\u001b[0m\u001b[1;33m[\u001b[0m\u001b[1;34m'fl_date'\u001b[0m\u001b[1;33m]\u001b[0m\u001b[1;33m,\u001b[0m \u001b[1;34m'predictions'\u001b[0m\u001b[1;33m:\u001b[0m \u001b[0my_pred_svm\u001b[0m\u001b[1;33m}\u001b[0m\u001b[1;33m)\u001b[0m\u001b[1;33m\u001b[0m\u001b[1;33m\u001b[0m\u001b[0m\n\u001b[0m",
      "\u001b[1;31mNameError\u001b[0m: name 'test_data' is not defined"
     ]
    }
   ],
   "source": [
    "results = pd.DataFrame({'fl_date': test_data['fl_date'], 'predictions': y_pred_svm})\n"
   ]
  },
  {
   "cell_type": "markdown",
   "metadata": {},
   "source": [
    "## Xgboost with CV fold"
   ]
  },
  {
   "cell_type": "code",
   "execution_count": 46,
   "metadata": {},
   "outputs": [],
   "source": [
    "import xgboost as xgb\n",
    "from sklearn.metrics import mean_squared_error\n",
    "\n",
    "# Create an instance of the XGBRegressor\n",
    "# Set the parameters according to your requirements\n",
    "model_xg = xgb.XGBRegressor(\n",
    "    n_estimators=100,\n",
    "    learning_rate=0.1,\n",
    "    max_depth=3,\n",
    "    random_state=42\n",
    ")\n"
   ]
  },
  {
   "cell_type": "code",
   "execution_count": 49,
   "metadata": {},
   "outputs": [
    {
     "name": "stdout",
     "output_type": "stream",
     "text": [
      "Cross-Validation RMSE Scores: [23.068065   28.00271631 23.51149221 24.79260957 22.97524918]\n",
      "Mean CV RMSE: 24.470026451863838\n"
     ]
    }
   ],
   "source": [
    "from sklearn.model_selection import cross_val_score\n",
    "\n",
    "# Perform cross-validation\n",
    "cv_scores = cross_val_score(model_xg, X_train_preprocessed, y_train, cv=5, scoring='neg_mean_squared_error')\n",
    "cv_rmse_scores = np.sqrt(-cv_scores)\n",
    "\n",
    "# Print the cross-validation scores\n",
    "print(\"Cross-Validation RMSE Scores:\", cv_rmse_scores)\n",
    "print(\"Mean CV RMSE:\", cv_rmse_scores.mean())"
   ]
  },
  {
   "cell_type": "code",
   "execution_count": 50,
   "metadata": {},
   "outputs": [
    {
     "data": {
      "text/plain": [
       "XGBRegressor(base_score=None, booster=None, callbacks=None,\n",
       "             colsample_bylevel=None, colsample_bynode=None,\n",
       "             colsample_bytree=None, early_stopping_rounds=None,\n",
       "             enable_categorical=False, eval_metric=None, feature_types=None,\n",
       "             gamma=None, gpu_id=None, grow_policy=None, importance_type=None,\n",
       "             interaction_constraints=None, learning_rate=0.1, max_bin=None,\n",
       "             max_cat_threshold=None, max_cat_to_onehot=None,\n",
       "             max_delta_step=None, max_depth=3, max_leaves=None,\n",
       "             min_child_weight=None, missing=nan, monotone_constraints=None,\n",
       "             n_estimators=100, n_jobs=None, num_parallel_tree=None,\n",
       "             predictor=None, random_state=42, ...)"
      ]
     },
     "execution_count": 50,
     "metadata": {},
     "output_type": "execute_result"
    }
   ],
   "source": [
    "# Fit the model to the training data\n",
    "model_xg.fit(X_train_preprocessed, y_train)"
   ]
  },
  {
   "cell_type": "code",
   "execution_count": 51,
   "metadata": {},
   "outputs": [],
   "source": [
    "# Make predictions on the test data\n",
    "y_pred_xgboost = model_xg.predict(X_test_preprocessed)"
   ]
  },
  {
   "cell_type": "code",
   "execution_count": 52,
   "metadata": {},
   "outputs": [
    {
     "name": "stdout",
     "output_type": "stream",
     "text": [
      "Root Mean Squared Error: 72.21337204593222\n"
     ]
    }
   ],
   "source": [
    "# Evaluate the model\n",
    "mse_xgboost = mean_squared_error(y_test, y_pred_xgboost)\n",
    "rmse_xgboost = np.sqrt(mse_xgboost)\n",
    "print(\"Root Mean Squared Error:\", rmse_xgboost)"
   ]
  },
  {
   "cell_type": "markdown",
   "metadata": {},
   "source": [
    "### Evaluation"
   ]
  },
  {
   "cell_type": "markdown",
   "metadata": {},
   "source": [
    "You have data from 2018 and 2019 to develop models. Use different evaluation metrics for each problem and compare the performance of different models.\n",
    "\n",
    "You are required to predict delays on **out of sample** data from **first 7 days (1st-7th) of January 2020** and to share the file with LighthouseLabs. Sample submission can be found in the file **_sample_submission.csv_**"
   ]
  },
  {
   "cell_type": "markdown",
   "metadata": {},
   "source": [
    "# Naive Bayes"
   ]
  },
  {
   "cell_type": "code",
   "execution_count": 57,
   "metadata": {},
   "outputs": [],
   "source": [
    "from sklearn.model_selection import train_test_split\n",
    "from sklearn.naive_bayes import GaussianNB\n",
    "from sklearn.metrics import mean_squared_error"
   ]
  },
  {
   "cell_type": "code",
   "execution_count": null,
   "metadata": {},
   "outputs": [],
   "source": [
    "# Initialize the Naive Bayes regressor\n",
    "nb_regressor = GaussianNB()"
   ]
  },
  {
   "cell_type": "code",
   "execution_count": null,
   "metadata": {},
   "outputs": [],
   "source": [
    "\n",
    "# Convert X_train_preprocessed to dense numpy array\n",
    "X_train_dense = X_train_preprocessed.toarray()"
   ]
  },
  {
   "cell_type": "code",
   "execution_count": null,
   "metadata": {},
   "outputs": [],
   "source": [
    "# Train the regressor\n",
    "nb_regressor.fit(X_train_dense, y_train)"
   ]
  },
  {
   "cell_type": "code",
   "execution_count": null,
   "metadata": {},
   "outputs": [],
   "source": [
    "# Convert X_train_preprocessed to dense numpy array\n",
    "X_test_dense = X_test_preprocessed.toarray()"
   ]
  },
  {
   "cell_type": "code",
   "execution_count": null,
   "metadata": {},
   "outputs": [],
   "source": [
    "# Make predictions on the test set\n",
    "y_pred = nb_regressor.predict(X_test_dense)"
   ]
  },
  {
   "cell_type": "code",
   "execution_count": null,
   "metadata": {},
   "outputs": [],
   "source": [
    "# Calculate the root mean squared error (RMSE)\n",
    "rmse = mean_squared_error(y_test, y_pred, squared=False)\n",
    "print(\"Root Mean Squared Error:\", rmse)"
   ]
  },
  {
   "cell_type": "markdown",
   "metadata": {},
   "source": [
    "## Adaboost"
   ]
  },
  {
   "cell_type": "code",
   "execution_count": 53,
   "metadata": {},
   "outputs": [],
   "source": [
    "from sklearn.ensemble import AdaBoostRegressor\n",
    "\n",
    "# Create an AdaBoost regressor\n",
    "adaboost = AdaBoostRegressor()\n",
    "\n",
    "# Train the AdaBoost regressor on the training data\n",
    "adaboost.fit(X_train_preprocessed, y_train)\n",
    "\n",
    "# Make predictions on the test data\n",
    "y_pred_ada = adaboost.predict(X_test_preprocessed)\n"
   ]
  },
  {
   "cell_type": "code",
   "execution_count": 56,
   "metadata": {},
   "outputs": [
    {
     "name": "stdout",
     "output_type": "stream",
     "text": [
      "Mean Absolute Error: 149.09178772075643\n",
      "Mean Squared Error: 28480.42544951269\n",
      "R-squared Score: -9.338961338549923\n"
     ]
    }
   ],
   "source": [
    "from sklearn.metrics import mean_absolute_error\n",
    "# Evaluate the model\n",
    "mae_ada = mean_absolute_error(y_test, y_pred_ada)\n",
    "mse_ada = mean_squared_error(y_test, y_pred_ada)\n",
    "r2_ada = r2_score(y_test, y_pred_ada)\n",
    "\n",
    "# Print the evaluation metrics\n",
    "print(\"Mean Absolute Error:\", mae_ada)\n",
    "print(\"Mean Squared Error:\", mse_ada)\n",
    "print(\"R-squared Score:\", r2_ada)"
   ]
  },
  {
   "cell_type": "code",
   "execution_count": null,
   "metadata": {},
   "outputs": [],
   "source": []
  },
  {
   "cell_type": "code",
   "execution_count": null,
   "metadata": {},
   "outputs": [],
   "source": []
  },
  {
   "cell_type": "code",
   "execution_count": null,
   "metadata": {},
   "outputs": [],
   "source": []
  },
  {
   "cell_type": "code",
   "execution_count": null,
   "metadata": {},
   "outputs": [],
   "source": []
  },
  {
   "cell_type": "markdown",
   "metadata": {},
   "source": [
    "## PCA  Dimensionality Reduction\n",
    "We need to apply different selection techniques to find out which one will be the best for our problems.\n",
    "\n",
    "- Original Features vs. PCA conponents?"
   ]
  },
  {
   "cell_type": "code",
   "execution_count": 70,
   "metadata": {},
   "outputs": [],
   "source": [
    "\n",
    "import numpy as np\n",
    "import pandas as pd\n",
    "import seaborn as sns\n",
    "import scipy.stats as stats\n",
    "import matplotlib.pyplot as plt\n",
    "from sklearn.preprocessing import MinMaxScaler\n",
    "from sklearn.model_selection import train_test_split\n",
    "\n",
    "df_flights = pd.read_csv('data/df_flights_model.csv')\n"
   ]
  },
  {
   "cell_type": "code",
   "execution_count": 71,
   "metadata": {},
   "outputs": [
    {
     "data": {
      "text/plain": [
       "mkt_unique_carrier           object\n",
       "origin                       object\n",
       "dest                         object\n",
       "crs_dep_time                  int64\n",
       "dep_time                      int64\n",
       "crs_arr_time                  int64\n",
       "crs_elapsed_time            float64\n",
       "distance                      int64\n",
       "taxi_mean_time              float64\n",
       "year                          int64\n",
       "month                         int64\n",
       "day_of_month                  int64\n",
       "day_of_week                   int64\n",
       "dep_hour                      int64\n",
       "time_of_day                  object\n",
       "dep_traffic_per_day           int64\n",
       "avg_delay_per_airline       float64\n",
       "monthly_avg_passengers      float64\n",
       "avg_monthly_fuel_gallons    float64\n",
       "arr_delay                   float64\n",
       "dtype: object"
      ]
     },
     "execution_count": 71,
     "metadata": {},
     "output_type": "execute_result"
    }
   ],
   "source": [
    "df_flights.dtypes"
   ]
  },
  {
   "cell_type": "code",
   "execution_count": 72,
   "metadata": {},
   "outputs": [],
   "source": [
    "from sklearn.model_selection import train_test_split\n",
    "\n",
    "# Separate the predicted variable (arr_delay)\n",
    "y = df_flights['arr_delay']\n",
    "\n",
    "# Remove the predicted variable from the dataframe\n",
    "X = df_flights.drop('arr_delay', axis=1)\n",
    "\n"
   ]
  },
  {
   "cell_type": "code",
   "execution_count": 73,
   "metadata": {
    "tags": []
   },
   "outputs": [],
   "source": [
    "categorical_vars = X.select_dtypes(include=['object','category'])\n",
    "numeric_vars = X.select_dtypes(include=['int64', 'float64'])\n",
    "\n",
    "X_cat = X[categorical_vars.columns]\n",
    "X_num = X[numeric_vars.columns]\n"
   ]
  },
  {
   "cell_type": "code",
   "execution_count": 74,
   "metadata": {},
   "outputs": [],
   "source": [
    "from sklearn.preprocessing import OneHotEncoder, StandardScaler\n",
    "# Categorical variable preprocessing\n",
    "encoder = OneHotEncoder()\n",
    "encoded_categorical = encoder.fit_transform(X_cat)\n"
   ]
  },
  {
   "cell_type": "code",
   "execution_count": 75,
   "metadata": {},
   "outputs": [],
   "source": [
    "scaler = StandardScaler()\n",
    "X_train_numeric_scaled = scaler.fit_transform(X_num)\n"
   ]
  },
  {
   "cell_type": "code",
   "execution_count": 76,
   "metadata": {},
   "outputs": [],
   "source": [
    "X_preprocessed = pd.concat([pd.DataFrame(encoded_categorical.toarray()), pd.DataFrame(X_train_numeric_scaled)], axis=1)"
   ]
  },
  {
   "cell_type": "code",
   "execution_count": 77,
   "metadata": {},
   "outputs": [],
   "source": [
    "from sklearn.decomposition import PCA\n",
    "# Perform PCA\n",
    "pca = PCA() \n",
    "X_pca = pca.fit_transform(X_preprocessed)\n",
    "\n"
   ]
  },
  {
   "cell_type": "code",
   "execution_count": null,
   "metadata": {},
   "outputs": [],
   "source": []
  },
  {
   "cell_type": "code",
   "execution_count": 78,
   "metadata": {},
   "outputs": [],
   "source": [
    "# Getting their pricipal components and their variance\n",
    "\n",
    "pcs = pca.components_\n",
    "var_ratios = pca.explained_variance_ratio_\n"
   ]
  },
  {
   "cell_type": "code",
   "execution_count": 79,
   "metadata": {},
   "outputs": [
    {
     "data": {
      "image/png": "[encoded data removed]",
      "text/plain": [
       "<Figure size 640x480 with 1 Axes>"
      ]
     },
     "metadata": {},
     "output_type": "display_data"
    }
   ],
   "source": [
    "# Plotting the PCA to ge better understanding of the components \n",
    "\n",
    "%matplotlib inline\n",
    "\n",
    "plt.plot(np.cumsum(var_ratios))\n",
    "plt.xlabel('Number of Principal Components', fontsize=10)\n",
    "plt.xticks(fontsize=10)\n",
    "plt.ylabel('Cumulative Explained Variance', fontsize=10)\n",
    "plt.yticks(fontsize=10)\n",
    "plt.show()"
   ]
  },
  {
   "cell_type": "code",
   "execution_count": 80,
   "metadata": {},
   "outputs": [
    {
     "data": {
      "text/plain": [
       "64"
      ]
     },
     "execution_count": 80,
     "metadata": {},
     "output_type": "execute_result"
    }
   ],
   "source": [
    "# Extracting the components that retain the most variance\n",
    "# The treshold set is of to maintain 95% of variance\n",
    "\n",
    "n_components = np.argmax(np.cumsum(var_ratios) >= 0.95) + 1\n",
    "n_components"
   ]
  },
  {
   "cell_type": "code",
   "execution_count": 81,
   "metadata": {},
   "outputs": [
    {
     "data": {
      "text/plain": [
       "array([[-2.51371445e-02, -1.00052235e+00, -1.32141200e-01, ...,\n",
       "        -3.38778863e-02,  3.62635560e-02, -9.67720512e-02],\n",
       "       [ 1.25375166e+00, -3.32346408e-01, -2.21851453e+00, ...,\n",
       "         2.22263474e-02, -3.10802677e-03,  3.24835623e-02],\n",
       "       [-2.36905392e+00,  4.98235034e+00,  2.96792685e+00, ...,\n",
       "         2.17479644e-01, -2.32772968e-01, -1.07187760e-01],\n",
       "       ...,\n",
       "       [-1.15538932e-01,  9.58405351e-02, -3.73669101e-01, ...,\n",
       "        -8.33663497e-02,  3.08934787e-02, -8.11785487e-02],\n",
       "       [-1.78701877e+00,  2.55894657e-01,  9.54724773e-01, ...,\n",
       "        -6.87605315e-02,  5.48183416e-02,  1.55121557e-01],\n",
       "       [-3.05657448e+00, -1.84340206e+00, -1.22282641e-01, ...,\n",
       "         2.20646422e-02, -4.21291895e-02, -2.09958160e-03]])"
      ]
     },
     "execution_count": 81,
     "metadata": {},
     "output_type": "execute_result"
    }
   ],
   "source": [
    "# Transforming the data\n",
    "\n",
    "X_pca = pca.transform(X_preprocessed)[:, :n_components]\n",
    "X_pca"
   ]
  },
  {
   "cell_type": "markdown",
   "metadata": {},
   "source": [
    "### Modelling"
   ]
  },
  {
   "cell_type": "code",
   "execution_count": 82,
   "metadata": {},
   "outputs": [],
   "source": [
    "import pickle\n",
    "from sklearn.linear_model import LinearRegression\n",
    "from sklearn.metrics import mean_absolute_error, mean_squared_error, r2_score\n",
    "import statsmodels.api as sm"
   ]
  },
  {
   "cell_type": "code",
   "execution_count": 83,
   "metadata": {},
   "outputs": [],
   "source": [
    "## Train test split\n",
    "X_pca_train, X_pca_test, y_pca_train, y_pca_test = train_test_split(X_pca, y, test_size=0.2, random_state=12)\n"
   ]
  },
  {
   "cell_type": "code",
   "execution_count": 84,
   "metadata": {},
   "outputs": [],
   "source": [
    "\n",
    "lr = LinearRegression()\n",
    "lr.fit(X_pca_train, y_pca_train)\n",
    "y_pred_lm = lr.predict(X_pca_test)\n",
    "\n"
   ]
  },
  {
   "cell_type": "code",
   "execution_count": 86,
   "metadata": {},
   "outputs": [
    {
     "name": "stdout",
     "output_type": "stream",
     "text": [
      "Linear Regression Model Results:\n",
      "Mean Absolute Error (MAE) is 22.40.\n",
      "Mean Squared Error (MSE) is 2106.08.\n",
      "Root Mean Squared Error (RMSE) is 45.89.\n",
      "R2_score is 0.06.\n"
     ]
    }
   ],
   "source": [
    "# Evaluation metrics \n",
    "\n",
    "mae = mean_absolute_error(y_pca_test, y_pred_lm)\n",
    "mse = mean_squared_error(y_pca_test, y_pred_lm)\n",
    "r2 = r2_score(y_pca_test, y_pred_lm)\n",
    "rmse = np.sqrt(mse)\n",
    "\n",
    "print('Linear Regression Model Results:')\n",
    "print('Mean Absolute Error (MAE) is {:.2f}.'.format(mae))\n",
    "print('Mean Squared Error (MSE) is {:.2f}.'.format(mse))\n",
    "print('Root Mean Squared Error (RMSE) is {:.2f}.'.format(rmse))\n",
    "print('R2_score is {:.2f}.'.format(r2))"
   ]
  },
  {
   "cell_type": "code",
   "execution_count": 87,
   "metadata": {},
   "outputs": [
    {
     "data": {
      "text/plain": [
       "count    30000.000000\n",
       "mean         5.485360\n",
       "std         13.600283\n",
       "min       -207.843665\n",
       "25%         -0.255808\n",
       "50%          5.178466\n",
       "75%         10.587378\n",
       "max        198.147709\n",
       "dtype: float64"
      ]
     },
     "execution_count": 87,
     "metadata": {},
     "output_type": "execute_result"
    }
   ],
   "source": [
    "pd.Series(y_pred_lm).describe()"
   ]
  },
  {
   "cell_type": "code",
   "execution_count": 88,
   "metadata": {},
   "outputs": [
    {
     "data": {
      "image/png": "[encoded data removed]",
      "text/plain": [
       "<Figure size 640x480 with 1 Axes>"
      ]
     },
     "metadata": {},
     "output_type": "display_data"
    }
   ],
   "source": [
    "# Plotting the residuals against the predicted values\n",
    "\n",
    "residuals = y_pca_test - y_pred_lm\n",
    "sns.scatterplot(x=y_pred_lm, y=residuals, color='blue')\n",
    "plt.xlabel('Predicted values')\n",
    "plt.ylabel('Residuals')\n",
    "plt.title('Residual Plot')\n",
    "plt.show()"
   ]
  },
  {
   "cell_type": "markdown",
   "metadata": {},
   "source": [
    "## Ridge CV"
   ]
  },
  {
   "cell_type": "code",
   "execution_count": 89,
   "metadata": {},
   "outputs": [
    {
     "name": "stdout",
     "output_type": "stream",
     "text": [
      "Ridge Regression Model Results:\n",
      "Mean Absolute Error (MAE) is 22.40.\n",
      "Mean Squared Error (MSE) is 2106.01.\n",
      "Root Mean Squared Error (RMSE) is 45.89.\n",
      "R2_score is 0.06.\n",
      "Best Alpha : 6.0\n"
     ]
    }
   ],
   "source": [
    "from sklearn.linear_model import RidgeCV\n",
    "\n",
    "ridge = RidgeCV(alphas=[0.1, 0.5, 1.0, 1.5, 2.0, 2.5, 3.0, 4.0, 4.5, 5.0, 5.5, 6.0])\n",
    "ridge.fit(X_pca_train, y_pca_train)\n",
    "y_pred_ridge_cv = ridge.predict(X_pca_test)\n",
    "\n",
    "# Metrics\n",
    "\n",
    "mae_ridge_cv = mean_absolute_error(y_pca_test, y_pred_ridge_cv)\n",
    "mse_ridge_cv = mean_squared_error(y_pca_test, y_pred_ridge_cv)\n",
    "rmse_ridge_cv = np.sqrt(mse_ridge_cv)\n",
    "r2_ridge_cv = r2_score(y_pca_test, y_pred_ridge_cv)\n",
    "\n",
    "print('Ridge Regression Model Results:')\n",
    "print('Mean Absolute Error (MAE) is {:.2f}.'.format(mae_ridge_cv))\n",
    "print('Mean Squared Error (MSE) is {:.2f}.'.format(mse_ridge_cv))\n",
    "print('Root Mean Squared Error (RMSE) is {:.2f}.'.format(rmse_ridge_cv))\n",
    "print('R2_score is {:.2f}.'.format(r2_ridge_cv))\n",
    "print(\"Best Alpha :\", ridge.alpha_)"
   ]
  },
  {
   "cell_type": "code",
   "execution_count": 90,
   "metadata": {},
   "outputs": [
    {
     "name": "stdout",
     "output_type": "stream",
     "text": [
      "Ridge Regression Results:\n",
      "Mean Absolute Error (MAE) is 22.40.\n",
      "Mean Squared Error (MSE) is 2106.01.\n",
      "Root Mean Squared Error (RMSE) is 45.89.\n",
      "R-squared is 0.06.\n"
     ]
    }
   ],
   "source": [
    "\n",
    "# Using Best alpha: 6.0\n",
    "\n",
    "from sklearn.linear_model import Ridge\n",
    "\n",
    "ridge = Ridge(alpha=6) \n",
    "ridge.fit(X_pca_train, y_train)\n",
    "y_pred_ridge = ridge.predict(X_pca_test)\n",
    "\n",
    "# Calculating some evaluation metrics\n",
    "\n",
    "mae_ridge = mean_absolute_error(y_pca_test, y_pred_ridge)\n",
    "mse_ridge = mean_squared_error(y_pca_test, y_pred_ridge)\n",
    "rmse_ridge = np.sqrt(mse_ridge)\n",
    "r2_ridge = r2_score(y_pca_test, y_pred_ridge)\n",
    "\n",
    "print('Ridge Regression Results:')\n",
    "print('Mean Absolute Error (MAE) is {:.2f}.'.format(mae_ridge))\n",
    "print('Mean Squared Error (MSE) is {:.2f}.'.format(mse_ridge))\n",
    "print('Root Mean Squared Error (RMSE) is {:.2f}.'.format(rmse_ridge))\n",
    "print('R-squared is {:.2f}.'.format(r2_ridge))\n"
   ]
  },
  {
   "cell_type": "markdown",
   "metadata": {},
   "source": [
    "## Random Forest Regressor"
   ]
  },
  {
   "cell_type": "code",
   "execution_count": null,
   "metadata": {},
   "outputs": [],
   "source": [
    "\n",
    "# Random Forest Regressor\n",
    "\n",
    "from sklearn.ensemble import RandomForestRegressor\n",
    "\n",
    "rfr = RandomForestRegressor(n_estimators=100, n_jobs=-1,random_state=100)\n",
    "rfr.fit(X_pca_train, y_pca_train)\n",
    "\n"
   ]
  },
  {
   "cell_type": "code",
   "execution_count": 93,
   "metadata": {},
   "outputs": [],
   "source": [
    "y_pred_rfr = rfr.predict(X_pca_test)"
   ]
  },
  {
   "cell_type": "code",
   "execution_count": 94,
   "metadata": {},
   "outputs": [
    {
     "name": "stdout",
     "output_type": "stream",
     "text": [
      "Random Forest Regressor Results:\n",
      "Mean Absolute Error (MAE) is 11.97.\n",
      "Mean Squared Error (MSE) is 449.04.\n",
      "Root Mean Squared Error (RMSE) is 21.19.\n",
      "R-squared (R2) is 0.80.\n"
     ]
    }
   ],
   "source": [
    "#  Evaluation metrics  \n",
    "\n",
    "mae_rfr = mean_absolute_error(y_pca_test, y_pred_rfr)\n",
    "mse_rfr = mean_squared_error(y_pca_test, y_pred_rfr)\n",
    "r2_rfr = r2_score(y_pca_test, y_pred_rfr)\n",
    "rmse_rfr = np.sqrt(mse_rfr)\n",
    "\n",
    "print('Random Forest Regressor Results:')\n",
    "print('Mean Absolute Error (MAE) is {:.2f}.'.format(mae_rfr))\n",
    "print('Mean Squared Error (MSE) is {:.2f}.'.format(mse_rfr))\n",
    "print('Root Mean Squared Error (RMSE) is {:.2f}.'.format(rmse_rfr))\n",
    "print('R-squared (R2) is {:.2f}.'.format(r2_rfr))\n"
   ]
  },
  {
   "cell_type": "markdown",
   "metadata": {},
   "source": [
    "## Decision tree regressor"
   ]
  },
  {
   "cell_type": "code",
   "execution_count": 95,
   "metadata": {},
   "outputs": [],
   "source": [
    "# Modeling with the Decision Tree Regressor\n",
    "\n",
    "from sklearn.tree import DecisionTreeRegressor\n",
    "\n",
    "dt = DecisionTreeRegressor(random_state=100)\n",
    "dt.fit(X_pca_train, y_pca_train)\n",
    "y_pred_dt = dt.predict(X_pca_test)\n",
    "\n"
   ]
  },
  {
   "cell_type": "code",
   "execution_count": 96,
   "metadata": {},
   "outputs": [
    {
     "name": "stdout",
     "output_type": "stream",
     "text": [
      "Decision Tree Regressor Results:\n",
      "Mean Absolute Error (MAE) is 17.29.\n",
      "Mean Squared Error (MSE) is 963.79.\n",
      "Root Mean Squared Error (RMSE) is 31.04.\n",
      "R-squared is 0.57.\n"
     ]
    }
   ],
   "source": [
    "# Evaluation metrics \n",
    "\n",
    "mae_dt = mean_absolute_error(y_pca_test, y_pred_dt)\n",
    "mse_dt = mean_squared_error(y_pca_test, y_pred_dt)\n",
    "r2_dt = r2_score(y_pca_test, y_pred_dt)\n",
    "rmse_dt = np.sqrt(mse_dt)\n",
    "\n",
    "print('Decision Tree Regressor Results:')\n",
    "print('Mean Absolute Error (MAE) is {:.2f}.'.format(mae_dt))\n",
    "print('Mean Squared Error (MSE) is {:.2f}.'.format(mse_dt))\n",
    "print('Root Mean Squared Error (RMSE) is {:.2f}.'.format(rmse_dt))\n",
    "print('R-squared is {:.2f}.'.format(r2_dt))"
   ]
  },
  {
   "cell_type": "markdown",
   "metadata": {},
   "source": [
    "## SVM"
   ]
  },
  {
   "cell_type": "code",
   "execution_count": null,
   "metadata": {},
   "outputs": [],
   "source": [
    "from sklearn.svm import SVR\n",
    "\n",
    "svmr = SVR(kernel='rbf')\n",
    "svmr.fit(X_pca_train, y_pca_train)\n",
    "y_pred_svmr = svmr.predict(X_pca_test)\n",
    "\n"
   ]
  },
  {
   "cell_type": "code",
   "execution_count": null,
   "metadata": {},
   "outputs": [],
   "source": [
    "# Calculating some evaluation metrics\n",
    "\n",
    "mae_svmr = mean_absolute_error(y_pca_test, y_pred_svmr)\n",
    "mse_svmr = mean_squared_error(y_pca_test, y_pred_svmr)\n",
    "rmse_svmr = np.sqrt(mse_svm)\n",
    "r2_svmr = r2_score(y_pca_test, y_pred_svmr)\n",
    "\n",
    "print('Support Vector Machines Results:')\n",
    "print('Mean Absolute Error (MAE) is {:.2f}.'.format(mae_svmr))\n",
    "print('Mean Squared Error (MSE) is {:.2f}.'.format(mse_svmr))\n",
    "print('Root Mean Squared Error (RMSE) is {:.2f}.'.format(rmse_svmr))\n",
    "print('R-squared (R2) is {:.2f}.'.format(r2_svmr))"
   ]
  },
  {
   "cell_type": "code",
   "execution_count": null,
   "metadata": {},
   "outputs": [],
   "source": []
  },
  {
   "cell_type": "markdown",
   "metadata": {},
   "source": [
    "======================================================================\n",
    "## Stretch Tasks"
   ]
  },
  {
   "cell_type": "markdown",
   "metadata": {},
   "source": [
    "### Multiclass Classification"
   ]
  },
  {
   "cell_type": "markdown",
   "metadata": {},
   "source": [
    "The target variables are **CARRIER_DELAY, WEATHER_DELAY, NAS_DELAY, SECURITY_DELAY, LATE_AIRCRAFT_DELAY**. We need to do additional transformations because these variables are not binary but continuos. For each flight that was delayed, we need to have one of these variables as 1 and others 0.\n",
    "\n",
    "It can happen that we have two types of delays with more than 0 minutes. In this case, take the bigger one as 1 and others as 0."
   ]
  },
  {
   "cell_type": "code",
   "execution_count": null,
   "metadata": {},
   "outputs": [],
   "source": []
  },
  {
   "cell_type": "code",
   "execution_count": null,
   "metadata": {},
   "outputs": [],
   "source": []
  },
  {
   "cell_type": "code",
   "execution_count": null,
   "metadata": {},
   "outputs": [],
   "source": []
  },
  {
   "cell_type": "markdown",
   "metadata": {},
   "source": [
    "### Binary Classification"
   ]
  },
  {
   "cell_type": "markdown",
   "metadata": {},
   "source": [
    "The target variable is **CANCELLED**. The main problem here is going to be huge class imbalance. We have only very little cancelled flights with comparison to all flights. It is important to do the right sampling before training and to choose correct evaluation metrics."
   ]
  },
  {
   "cell_type": "code",
   "execution_count": null,
   "metadata": {},
   "outputs": [],
   "source": []
  },
  {
   "cell_type": "code",
   "execution_count": null,
   "metadata": {},
   "outputs": [],
   "source": []
  },
  {
   "cell_type": "code",
   "execution_count": null,
   "metadata": {},
   "outputs": [],
   "source": []
  }
 ],
 "metadata": {
  "kernelspec": {
   "display_name": "Python 3 (ipykernel)",
   "language": "python",
   "name": "python3"
  },
  "language_info": {
   "codemirror_mode": {
    "name": "ipython",
    "version": 3
   },
   "file_extension": ".py",
   "mimetype": "text/x-python",
   "name": "python",
   "nbconvert_exporter": "python",
   "pygments_lexer": "ipython3",
   "version": "3.9.13"
  }
 },
 "nbformat": 4,
 "nbformat_minor": 4
}
